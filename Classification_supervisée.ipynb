{
  "nbformat": 4,
  "nbformat_minor": 0,
  "metadata": {
    "colab": {
      "name": "Classification supervisée.ipynb",
      "provenance": [],
      "collapsed_sections": [],
      "authorship_tag": "ABX9TyP1sa0dTJXnNx7g+7uJgj5+",
      "include_colab_link": true
    },
    "kernelspec": {
      "name": "python3",
      "display_name": "Python 3"
    },
    "language_info": {
      "name": "python"
    }
  },
  "cells": [
    {
      "cell_type": "markdown",
      "metadata": {
        "id": "view-in-github",
        "colab_type": "text"
      },
      "source": [
        "<a href=\"https://colab.research.google.com/github/Fatimata01/classification-supervis-e_data_mining/blob/main/Classification_supervis%C3%A9e.ipynb\" target=\"_parent\"><img src=\"https://colab.research.google.com/assets/colab-badge.svg\" alt=\"Open In Colab\"/></a>"
      ]
    },
    {
      "cell_type": "markdown",
      "source": [
        " **Détection de fraude par carte de crédit-Ensemble de données déséquilibré**\n",
        "\n"
      ],
      "metadata": {
        "id": "cDG9rQEAX9sa"
      }
    },
    {
      "cell_type": "code",
      "execution_count": null,
      "metadata": {
        "id": "2NsAldiaqwo2"
      },
      "outputs": [],
      "source": [
        "import numpy as np\n",
        "import pandas as pd\n",
        "import matplotlib.pyplot as plt\n",
        "import seaborn as sns"
      ]
    },
    {
      "cell_type": "code",
      "source": [
        "data = pd.read_csv(\"credit_dataset.csv\")\n",
        "data"
      ],
      "metadata": {
        "colab": {
          "base_uri": "https://localhost:8080/",
          "height": 774
        },
        "id": "MaQdiJ8Rq65F",
        "outputId": "93a848a2-fcd9-4024-ad9c-1ff25d7ed523"
      },
      "execution_count": null,
      "outputs": [
        {
          "output_type": "execute_result",
          "data": {
            "text/html": [
              "<div>\n",
              "<style scoped>\n",
              "    .dataframe tbody tr th:only-of-type {\n",
              "        vertical-align: middle;\n",
              "    }\n",
              "\n",
              "    .dataframe tbody tr th {\n",
              "        vertical-align: top;\n",
              "    }\n",
              "\n",
              "    .dataframe thead th {\n",
              "        text-align: right;\n",
              "    }\n",
              "</style>\n",
              "<table border=\"1\" class=\"dataframe\">\n",
              "  <thead>\n",
              "    <tr style=\"text-align: right;\">\n",
              "      <th></th>\n",
              "      <th>Unnamed: 0</th>\n",
              "      <th>ID</th>\n",
              "      <th>GENDER</th>\n",
              "      <th>CAR</th>\n",
              "      <th>REALITY</th>\n",
              "      <th>NO_OF_CHILD</th>\n",
              "      <th>INCOME</th>\n",
              "      <th>INCOME_TYPE</th>\n",
              "      <th>EDUCATION_TYPE</th>\n",
              "      <th>FAMILY_TYPE</th>\n",
              "      <th>HOUSE_TYPE</th>\n",
              "      <th>FLAG_MOBIL</th>\n",
              "      <th>WORK_PHONE</th>\n",
              "      <th>PHONE</th>\n",
              "      <th>E_MAIL</th>\n",
              "      <th>FAMILY SIZE</th>\n",
              "      <th>BEGIN_MONTH</th>\n",
              "      <th>AGE</th>\n",
              "      <th>YEARS_EMPLOYED</th>\n",
              "      <th>TARGET</th>\n",
              "    </tr>\n",
              "  </thead>\n",
              "  <tbody>\n",
              "    <tr>\n",
              "      <th>0</th>\n",
              "      <td>0</td>\n",
              "      <td>5008806</td>\n",
              "      <td>M</td>\n",
              "      <td>Y</td>\n",
              "      <td>Y</td>\n",
              "      <td>0</td>\n",
              "      <td>112500.0</td>\n",
              "      <td>Working</td>\n",
              "      <td>Secondary / secondary special</td>\n",
              "      <td>Married</td>\n",
              "      <td>House / apartment</td>\n",
              "      <td>1</td>\n",
              "      <td>0</td>\n",
              "      <td>0</td>\n",
              "      <td>0</td>\n",
              "      <td>2.0</td>\n",
              "      <td>29</td>\n",
              "      <td>59</td>\n",
              "      <td>3</td>\n",
              "      <td>0</td>\n",
              "    </tr>\n",
              "    <tr>\n",
              "      <th>1</th>\n",
              "      <td>1</td>\n",
              "      <td>5008808</td>\n",
              "      <td>F</td>\n",
              "      <td>N</td>\n",
              "      <td>Y</td>\n",
              "      <td>0</td>\n",
              "      <td>270000.0</td>\n",
              "      <td>Commercial associate</td>\n",
              "      <td>Secondary / secondary special</td>\n",
              "      <td>Single / not married</td>\n",
              "      <td>House / apartment</td>\n",
              "      <td>1</td>\n",
              "      <td>0</td>\n",
              "      <td>1</td>\n",
              "      <td>1</td>\n",
              "      <td>1.0</td>\n",
              "      <td>4</td>\n",
              "      <td>52</td>\n",
              "      <td>8</td>\n",
              "      <td>0</td>\n",
              "    </tr>\n",
              "    <tr>\n",
              "      <th>2</th>\n",
              "      <td>2</td>\n",
              "      <td>5008809</td>\n",
              "      <td>F</td>\n",
              "      <td>N</td>\n",
              "      <td>Y</td>\n",
              "      <td>0</td>\n",
              "      <td>270000.0</td>\n",
              "      <td>Commercial associate</td>\n",
              "      <td>Secondary / secondary special</td>\n",
              "      <td>Single / not married</td>\n",
              "      <td>House / apartment</td>\n",
              "      <td>1</td>\n",
              "      <td>0</td>\n",
              "      <td>1</td>\n",
              "      <td>1</td>\n",
              "      <td>1.0</td>\n",
              "      <td>26</td>\n",
              "      <td>52</td>\n",
              "      <td>8</td>\n",
              "      <td>0</td>\n",
              "    </tr>\n",
              "    <tr>\n",
              "      <th>3</th>\n",
              "      <td>3</td>\n",
              "      <td>5008810</td>\n",
              "      <td>F</td>\n",
              "      <td>N</td>\n",
              "      <td>Y</td>\n",
              "      <td>0</td>\n",
              "      <td>270000.0</td>\n",
              "      <td>Commercial associate</td>\n",
              "      <td>Secondary / secondary special</td>\n",
              "      <td>Single / not married</td>\n",
              "      <td>House / apartment</td>\n",
              "      <td>1</td>\n",
              "      <td>0</td>\n",
              "      <td>1</td>\n",
              "      <td>1</td>\n",
              "      <td>1.0</td>\n",
              "      <td>26</td>\n",
              "      <td>52</td>\n",
              "      <td>8</td>\n",
              "      <td>0</td>\n",
              "    </tr>\n",
              "    <tr>\n",
              "      <th>4</th>\n",
              "      <td>4</td>\n",
              "      <td>5008811</td>\n",
              "      <td>F</td>\n",
              "      <td>N</td>\n",
              "      <td>Y</td>\n",
              "      <td>0</td>\n",
              "      <td>270000.0</td>\n",
              "      <td>Commercial associate</td>\n",
              "      <td>Secondary / secondary special</td>\n",
              "      <td>Single / not married</td>\n",
              "      <td>House / apartment</td>\n",
              "      <td>1</td>\n",
              "      <td>0</td>\n",
              "      <td>1</td>\n",
              "      <td>1</td>\n",
              "      <td>1.0</td>\n",
              "      <td>38</td>\n",
              "      <td>52</td>\n",
              "      <td>8</td>\n",
              "      <td>0</td>\n",
              "    </tr>\n",
              "    <tr>\n",
              "      <th>...</th>\n",
              "      <td>...</td>\n",
              "      <td>...</td>\n",
              "      <td>...</td>\n",
              "      <td>...</td>\n",
              "      <td>...</td>\n",
              "      <td>...</td>\n",
              "      <td>...</td>\n",
              "      <td>...</td>\n",
              "      <td>...</td>\n",
              "      <td>...</td>\n",
              "      <td>...</td>\n",
              "      <td>...</td>\n",
              "      <td>...</td>\n",
              "      <td>...</td>\n",
              "      <td>...</td>\n",
              "      <td>...</td>\n",
              "      <td>...</td>\n",
              "      <td>...</td>\n",
              "      <td>...</td>\n",
              "      <td>...</td>\n",
              "    </tr>\n",
              "    <tr>\n",
              "      <th>25129</th>\n",
              "      <td>25129</td>\n",
              "      <td>5149828</td>\n",
              "      <td>M</td>\n",
              "      <td>Y</td>\n",
              "      <td>Y</td>\n",
              "      <td>0</td>\n",
              "      <td>315000.0</td>\n",
              "      <td>Working</td>\n",
              "      <td>Secondary / secondary special</td>\n",
              "      <td>Married</td>\n",
              "      <td>House / apartment</td>\n",
              "      <td>1</td>\n",
              "      <td>0</td>\n",
              "      <td>0</td>\n",
              "      <td>0</td>\n",
              "      <td>2.0</td>\n",
              "      <td>11</td>\n",
              "      <td>48</td>\n",
              "      <td>7</td>\n",
              "      <td>1</td>\n",
              "    </tr>\n",
              "    <tr>\n",
              "      <th>25130</th>\n",
              "      <td>25130</td>\n",
              "      <td>5149834</td>\n",
              "      <td>F</td>\n",
              "      <td>N</td>\n",
              "      <td>Y</td>\n",
              "      <td>0</td>\n",
              "      <td>157500.0</td>\n",
              "      <td>Commercial associate</td>\n",
              "      <td>Higher education</td>\n",
              "      <td>Married</td>\n",
              "      <td>House / apartment</td>\n",
              "      <td>1</td>\n",
              "      <td>0</td>\n",
              "      <td>1</td>\n",
              "      <td>1</td>\n",
              "      <td>2.0</td>\n",
              "      <td>23</td>\n",
              "      <td>34</td>\n",
              "      <td>4</td>\n",
              "      <td>1</td>\n",
              "    </tr>\n",
              "    <tr>\n",
              "      <th>25131</th>\n",
              "      <td>25131</td>\n",
              "      <td>5149838</td>\n",
              "      <td>F</td>\n",
              "      <td>N</td>\n",
              "      <td>Y</td>\n",
              "      <td>0</td>\n",
              "      <td>157500.0</td>\n",
              "      <td>Pensioner</td>\n",
              "      <td>Higher education</td>\n",
              "      <td>Married</td>\n",
              "      <td>House / apartment</td>\n",
              "      <td>1</td>\n",
              "      <td>0</td>\n",
              "      <td>1</td>\n",
              "      <td>1</td>\n",
              "      <td>2.0</td>\n",
              "      <td>32</td>\n",
              "      <td>34</td>\n",
              "      <td>4</td>\n",
              "      <td>1</td>\n",
              "    </tr>\n",
              "    <tr>\n",
              "      <th>25132</th>\n",
              "      <td>25132</td>\n",
              "      <td>5150049</td>\n",
              "      <td>F</td>\n",
              "      <td>N</td>\n",
              "      <td>Y</td>\n",
              "      <td>0</td>\n",
              "      <td>283500.0</td>\n",
              "      <td>Working</td>\n",
              "      <td>Secondary / secondary special</td>\n",
              "      <td>Married</td>\n",
              "      <td>House / apartment</td>\n",
              "      <td>1</td>\n",
              "      <td>0</td>\n",
              "      <td>0</td>\n",
              "      <td>0</td>\n",
              "      <td>2.0</td>\n",
              "      <td>9</td>\n",
              "      <td>49</td>\n",
              "      <td>2</td>\n",
              "      <td>1</td>\n",
              "    </tr>\n",
              "    <tr>\n",
              "      <th>25133</th>\n",
              "      <td>25133</td>\n",
              "      <td>5150337</td>\n",
              "      <td>M</td>\n",
              "      <td>N</td>\n",
              "      <td>Y</td>\n",
              "      <td>0</td>\n",
              "      <td>112500.0</td>\n",
              "      <td>Working</td>\n",
              "      <td>Secondary / secondary special</td>\n",
              "      <td>Single / not married</td>\n",
              "      <td>Rented apartment</td>\n",
              "      <td>1</td>\n",
              "      <td>0</td>\n",
              "      <td>0</td>\n",
              "      <td>0</td>\n",
              "      <td>1.0</td>\n",
              "      <td>13</td>\n",
              "      <td>25</td>\n",
              "      <td>3</td>\n",
              "      <td>1</td>\n",
              "    </tr>\n",
              "  </tbody>\n",
              "</table>\n",
              "<p>25134 rows × 20 columns</p>\n",
              "</div>"
            ],
            "text/plain": [
              "       Unnamed: 0       ID GENDER CAR  ... BEGIN_MONTH  AGE  YEARS_EMPLOYED TARGET\n",
              "0               0  5008806      M   Y  ...          29   59               3      0\n",
              "1               1  5008808      F   N  ...           4   52               8      0\n",
              "2               2  5008809      F   N  ...          26   52               8      0\n",
              "3               3  5008810      F   N  ...          26   52               8      0\n",
              "4               4  5008811      F   N  ...          38   52               8      0\n",
              "...           ...      ...    ...  ..  ...         ...  ...             ...    ...\n",
              "25129       25129  5149828      M   Y  ...          11   48               7      1\n",
              "25130       25130  5149834      F   N  ...          23   34               4      1\n",
              "25131       25131  5149838      F   N  ...          32   34               4      1\n",
              "25132       25132  5150049      F   N  ...           9   49               2      1\n",
              "25133       25133  5150337      M   N  ...          13   25               3      1\n",
              "\n",
              "[25134 rows x 20 columns]"
            ]
          },
          "metadata": {},
          "execution_count": 43
        }
      ]
    },
    {
      "cell_type": "code",
      "source": [
        "data.dtypes.value_counts()"
      ],
      "metadata": {
        "colab": {
          "base_uri": "https://localhost:8080/"
        },
        "id": "9Y0VQAGPq_Dz",
        "outputId": "bc6adba1-acfd-498f-e95f-5063023b5481"
      },
      "execution_count": null,
      "outputs": [
        {
          "output_type": "execute_result",
          "data": {
            "text/plain": [
              "int64      11\n",
              "object      7\n",
              "float64     2\n",
              "dtype: int64"
            ]
          },
          "metadata": {},
          "execution_count": 44
        }
      ]
    },
    {
      "cell_type": "code",
      "source": [
        "#Analyse de la variable cible DEFAUT\n",
        "\n",
        "data['TARGET'].value_counts(normalize=True)\n"
      ],
      "metadata": {
        "colab": {
          "base_uri": "https://localhost:8080/"
        },
        "id": "G5CsfjnUrEth",
        "outputId": "1bafb474-d626-4a33-f173-92ae0e508d90"
      },
      "execution_count": null,
      "outputs": [
        {
          "output_type": "execute_result",
          "data": {
            "text/plain": [
              "0    0.98321\n",
              "1    0.01679\n",
              "Name: TARGET, dtype: float64"
            ]
          },
          "metadata": {},
          "execution_count": 45
        }
      ]
    },
    {
      "cell_type": "code",
      "source": [
        "ax = data['TARGET'].value_counts().plot(kind='bar', figsize=(10, 6), fontsize=13, color='#087E8B')\n",
        "ax.set_title('Credit card fraud (0 = normal, 1 = fraud)', size=25, pad=30)\n",
        "ax.set_ylabel('Number of transactions', fontsize=14)\n",
        "\n",
        "for i in ax.patches:\n",
        "    ax.text(i.get_x() + 0.19, i.get_height() + 700, str(round(i.get_height(), 2)), fontsize=15)"
      ],
      "metadata": {
        "colab": {
          "base_uri": "https://localhost:8080/",
          "height": 421
        },
        "id": "t5Ro_0hMrKGX",
        "outputId": "74f9d794-ba36-4cfd-92eb-a506310e4ca9"
      },
      "execution_count": null,
      "outputs": [
        {
          "output_type": "display_data",
          "data": {
            "image/png": "[encoded data removed]",
            "text/plain": [
              "<Figure size 720x432 with 1 Axes>"
            ]
          },
          "metadata": {
            "needs_background": "light"
          }
        }
      ]
    },
    {
      "cell_type": "markdown",
      "source": [
        "Seulement **1.68%** des transactions sont des fraudes; contre **98.32%** qui sont des transactions normales. Donc on voit clairement que nos données sont **très déséquilibrées**"
      ],
      "metadata": {
        "id": "m27-i61mrTi0"
      }
    },
    {
      "cell_type": "code",
      "source": [
        "# Drop unnecessary columns\n",
        "to_drop = ['Unnamed: 0', 'ID','FLAG_MOBIL']\n",
        "data.drop(to_drop, axis=1, inplace=True)"
      ],
      "metadata": {
        "id": "NspNOEXdrce7"
      },
      "execution_count": null,
      "outputs": []
    },
    {
      "cell_type": "code",
      "source": [
        "#Préparation des données\n",
        "#Matrice de correlation\n",
        "quanti=['INCOME','NO_OF_CHILD','FAMILY SIZE','BEGIN_MONTH','AGE','YEARS_EMPLOYED','TARGET']\n",
        "plt.figure(figsize=(10,10))\n",
        "sns.heatmap(data[quanti].corr(),cmap=\"Blues\",annot=True)\n",
        "plt.show()"
      ],
      "metadata": {
        "colab": {
          "base_uri": "https://localhost:8080/",
          "height": 676
        },
        "id": "D_kGzIZorzSh",
        "outputId": "f8cdb798-fb9c-4132-cbce-43ab88c744c9"
      },
      "execution_count": null,
      "outputs": [
        {
          "output_type": "display_data",
          "data": {
            "image/png": "[encoded data removed]",
            "text/plain": [
              "<Figure size 720x720 with 2 Axes>"
            ]
          },
          "metadata": {
            "needs_background": "light"
          }
        }
      ]
    },
    {
      "cell_type": "markdown",
      "source": [
        "On remarque une **forte correlation de 0.9 entre FAMILY_SIZE et NO_OF_CHILD**.On supprimera donc la variable NO_OF_CHILD."
      ],
      "metadata": {
        "id": "fUdhmlkcr2Ks"
      }
    },
    {
      "cell_type": "code",
      "source": [
        "data.drop(\"NO_OF_CHILD\", axis=1, inplace=True)"
      ],
      "metadata": {
        "id": "S58wO_Der9yh"
      },
      "execution_count": null,
      "outputs": []
    },
    {
      "cell_type": "code",
      "source": [
        "from sklearn.preprocessing import LabelEncoder\n",
        "\n",
        "class MultiColumnLabelEncoder:\n",
        "    def __init__(self,columns = None):\n",
        "        self.columns = columns # array of column names to encode\n",
        "\n",
        "    def fit(self,X,y=None):\n",
        "        return self # not relevant here\n",
        "\n",
        "    def transform(self,X):\n",
        "        '''\n",
        "        Transforms columns of X specified in self.columns using\n",
        "        LabelEncoder(). If no columns specified, transforms all\n",
        "        columns in X.\n",
        "        '''\n",
        "        output = X.copy()\n",
        "        if self.columns is not None:\n",
        "            for col in self.columns:\n",
        "                output[col] = LabelEncoder().fit_transform(output[col])\n",
        "        else:\n",
        "            for colname,col in output.iteritems():\n",
        "                output[colname] = LabelEncoder().fit_transform(col)\n",
        "        return output\n",
        "\n",
        "    def fit_transform(self,X,y=None):\n",
        "        return self.fit(X,y).transform(X)"
      ],
      "metadata": {
        "id": "L7XST2ZisDs1"
      },
      "execution_count": null,
      "outputs": []
    },
    {
      "cell_type": "code",
      "source": [
        "data = MultiColumnLabelEncoder(columns = ['GENDER','CAR','REALITY'\t]).fit_transform(data)\n",
        "data"
      ],
      "metadata": {
        "colab": {
          "base_uri": "https://localhost:8080/",
          "height": 774
        },
        "id": "asXq1ocNsbCf",
        "outputId": "7b8e98ca-8365-453b-bd10-ef442942709a"
      },
      "execution_count": null,
      "outputs": [
        {
          "output_type": "execute_result",
          "data": {
            "text/html": [
              "<div>\n",
              "<style scoped>\n",
              "    .dataframe tbody tr th:only-of-type {\n",
              "        vertical-align: middle;\n",
              "    }\n",
              "\n",
              "    .dataframe tbody tr th {\n",
              "        vertical-align: top;\n",
              "    }\n",
              "\n",
              "    .dataframe thead th {\n",
              "        text-align: right;\n",
              "    }\n",
              "</style>\n",
              "<table border=\"1\" class=\"dataframe\">\n",
              "  <thead>\n",
              "    <tr style=\"text-align: right;\">\n",
              "      <th></th>\n",
              "      <th>GENDER</th>\n",
              "      <th>CAR</th>\n",
              "      <th>REALITY</th>\n",
              "      <th>INCOME</th>\n",
              "      <th>INCOME_TYPE</th>\n",
              "      <th>EDUCATION_TYPE</th>\n",
              "      <th>FAMILY_TYPE</th>\n",
              "      <th>HOUSE_TYPE</th>\n",
              "      <th>WORK_PHONE</th>\n",
              "      <th>PHONE</th>\n",
              "      <th>E_MAIL</th>\n",
              "      <th>FAMILY SIZE</th>\n",
              "      <th>BEGIN_MONTH</th>\n",
              "      <th>AGE</th>\n",
              "      <th>YEARS_EMPLOYED</th>\n",
              "      <th>TARGET</th>\n",
              "    </tr>\n",
              "  </thead>\n",
              "  <tbody>\n",
              "    <tr>\n",
              "      <th>0</th>\n",
              "      <td>1</td>\n",
              "      <td>1</td>\n",
              "      <td>1</td>\n",
              "      <td>112500.0</td>\n",
              "      <td>Working</td>\n",
              "      <td>Secondary / secondary special</td>\n",
              "      <td>Married</td>\n",
              "      <td>House / apartment</td>\n",
              "      <td>0</td>\n",
              "      <td>0</td>\n",
              "      <td>0</td>\n",
              "      <td>2.0</td>\n",
              "      <td>29</td>\n",
              "      <td>59</td>\n",
              "      <td>3</td>\n",
              "      <td>0</td>\n",
              "    </tr>\n",
              "    <tr>\n",
              "      <th>1</th>\n",
              "      <td>0</td>\n",
              "      <td>0</td>\n",
              "      <td>1</td>\n",
              "      <td>270000.0</td>\n",
              "      <td>Commercial associate</td>\n",
              "      <td>Secondary / secondary special</td>\n",
              "      <td>Single / not married</td>\n",
              "      <td>House / apartment</td>\n",
              "      <td>0</td>\n",
              "      <td>1</td>\n",
              "      <td>1</td>\n",
              "      <td>1.0</td>\n",
              "      <td>4</td>\n",
              "      <td>52</td>\n",
              "      <td>8</td>\n",
              "      <td>0</td>\n",
              "    </tr>\n",
              "    <tr>\n",
              "      <th>2</th>\n",
              "      <td>0</td>\n",
              "      <td>0</td>\n",
              "      <td>1</td>\n",
              "      <td>270000.0</td>\n",
              "      <td>Commercial associate</td>\n",
              "      <td>Secondary / secondary special</td>\n",
              "      <td>Single / not married</td>\n",
              "      <td>House / apartment</td>\n",
              "      <td>0</td>\n",
              "      <td>1</td>\n",
              "      <td>1</td>\n",
              "      <td>1.0</td>\n",
              "      <td>26</td>\n",
              "      <td>52</td>\n",
              "      <td>8</td>\n",
              "      <td>0</td>\n",
              "    </tr>\n",
              "    <tr>\n",
              "      <th>3</th>\n",
              "      <td>0</td>\n",
              "      <td>0</td>\n",
              "      <td>1</td>\n",
              "      <td>270000.0</td>\n",
              "      <td>Commercial associate</td>\n",
              "      <td>Secondary / secondary special</td>\n",
              "      <td>Single / not married</td>\n",
              "      <td>House / apartment</td>\n",
              "      <td>0</td>\n",
              "      <td>1</td>\n",
              "      <td>1</td>\n",
              "      <td>1.0</td>\n",
              "      <td>26</td>\n",
              "      <td>52</td>\n",
              "      <td>8</td>\n",
              "      <td>0</td>\n",
              "    </tr>\n",
              "    <tr>\n",
              "      <th>4</th>\n",
              "      <td>0</td>\n",
              "      <td>0</td>\n",
              "      <td>1</td>\n",
              "      <td>270000.0</td>\n",
              "      <td>Commercial associate</td>\n",
              "      <td>Secondary / secondary special</td>\n",
              "      <td>Single / not married</td>\n",
              "      <td>House / apartment</td>\n",
              "      <td>0</td>\n",
              "      <td>1</td>\n",
              "      <td>1</td>\n",
              "      <td>1.0</td>\n",
              "      <td>38</td>\n",
              "      <td>52</td>\n",
              "      <td>8</td>\n",
              "      <td>0</td>\n",
              "    </tr>\n",
              "    <tr>\n",
              "      <th>...</th>\n",
              "      <td>...</td>\n",
              "      <td>...</td>\n",
              "      <td>...</td>\n",
              "      <td>...</td>\n",
              "      <td>...</td>\n",
              "      <td>...</td>\n",
              "      <td>...</td>\n",
              "      <td>...</td>\n",
              "      <td>...</td>\n",
              "      <td>...</td>\n",
              "      <td>...</td>\n",
              "      <td>...</td>\n",
              "      <td>...</td>\n",
              "      <td>...</td>\n",
              "      <td>...</td>\n",
              "      <td>...</td>\n",
              "    </tr>\n",
              "    <tr>\n",
              "      <th>25129</th>\n",
              "      <td>1</td>\n",
              "      <td>1</td>\n",
              "      <td>1</td>\n",
              "      <td>315000.0</td>\n",
              "      <td>Working</td>\n",
              "      <td>Secondary / secondary special</td>\n",
              "      <td>Married</td>\n",
              "      <td>House / apartment</td>\n",
              "      <td>0</td>\n",
              "      <td>0</td>\n",
              "      <td>0</td>\n",
              "      <td>2.0</td>\n",
              "      <td>11</td>\n",
              "      <td>48</td>\n",
              "      <td>7</td>\n",
              "      <td>1</td>\n",
              "    </tr>\n",
              "    <tr>\n",
              "      <th>25130</th>\n",
              "      <td>0</td>\n",
              "      <td>0</td>\n",
              "      <td>1</td>\n",
              "      <td>157500.0</td>\n",
              "      <td>Commercial associate</td>\n",
              "      <td>Higher education</td>\n",
              "      <td>Married</td>\n",
              "      <td>House / apartment</td>\n",
              "      <td>0</td>\n",
              "      <td>1</td>\n",
              "      <td>1</td>\n",
              "      <td>2.0</td>\n",
              "      <td>23</td>\n",
              "      <td>34</td>\n",
              "      <td>4</td>\n",
              "      <td>1</td>\n",
              "    </tr>\n",
              "    <tr>\n",
              "      <th>25131</th>\n",
              "      <td>0</td>\n",
              "      <td>0</td>\n",
              "      <td>1</td>\n",
              "      <td>157500.0</td>\n",
              "      <td>Pensioner</td>\n",
              "      <td>Higher education</td>\n",
              "      <td>Married</td>\n",
              "      <td>House / apartment</td>\n",
              "      <td>0</td>\n",
              "      <td>1</td>\n",
              "      <td>1</td>\n",
              "      <td>2.0</td>\n",
              "      <td>32</td>\n",
              "      <td>34</td>\n",
              "      <td>4</td>\n",
              "      <td>1</td>\n",
              "    </tr>\n",
              "    <tr>\n",
              "      <th>25132</th>\n",
              "      <td>0</td>\n",
              "      <td>0</td>\n",
              "      <td>1</td>\n",
              "      <td>283500.0</td>\n",
              "      <td>Working</td>\n",
              "      <td>Secondary / secondary special</td>\n",
              "      <td>Married</td>\n",
              "      <td>House / apartment</td>\n",
              "      <td>0</td>\n",
              "      <td>0</td>\n",
              "      <td>0</td>\n",
              "      <td>2.0</td>\n",
              "      <td>9</td>\n",
              "      <td>49</td>\n",
              "      <td>2</td>\n",
              "      <td>1</td>\n",
              "    </tr>\n",
              "    <tr>\n",
              "      <th>25133</th>\n",
              "      <td>1</td>\n",
              "      <td>0</td>\n",
              "      <td>1</td>\n",
              "      <td>112500.0</td>\n",
              "      <td>Working</td>\n",
              "      <td>Secondary / secondary special</td>\n",
              "      <td>Single / not married</td>\n",
              "      <td>Rented apartment</td>\n",
              "      <td>0</td>\n",
              "      <td>0</td>\n",
              "      <td>0</td>\n",
              "      <td>1.0</td>\n",
              "      <td>13</td>\n",
              "      <td>25</td>\n",
              "      <td>3</td>\n",
              "      <td>1</td>\n",
              "    </tr>\n",
              "  </tbody>\n",
              "</table>\n",
              "<p>25134 rows × 16 columns</p>\n",
              "</div>"
            ],
            "text/plain": [
              "       GENDER  CAR  REALITY    INCOME  ... BEGIN_MONTH AGE YEARS_EMPLOYED TARGET\n",
              "0           1    1        1  112500.0  ...          29  59              3      0\n",
              "1           0    0        1  270000.0  ...           4  52              8      0\n",
              "2           0    0        1  270000.0  ...          26  52              8      0\n",
              "3           0    0        1  270000.0  ...          26  52              8      0\n",
              "4           0    0        1  270000.0  ...          38  52              8      0\n",
              "...       ...  ...      ...       ...  ...         ...  ..            ...    ...\n",
              "25129       1    1        1  315000.0  ...          11  48              7      1\n",
              "25130       0    0        1  157500.0  ...          23  34              4      1\n",
              "25131       0    0        1  157500.0  ...          32  34              4      1\n",
              "25132       0    0        1  283500.0  ...           9  49              2      1\n",
              "25133       1    0        1  112500.0  ...          13  25              3      1\n",
              "\n",
              "[25134 rows x 16 columns]"
            ]
          },
          "metadata": {},
          "execution_count": 51
        }
      ]
    },
    {
      "cell_type": "code",
      "source": [
        "#variables dummies\n",
        "encode_cols = ['INCOME_TYPE','EDUCATION_TYPE','FAMILY_TYPE', 'HOUSE_TYPE']\n",
        " \n",
        "encoded_pd = pd.get_dummies(data,\n",
        "               columns=encode_cols,\n",
        "               prefix=encode_cols,\n",
        "               drop_first=True)\n",
        " \n",
        "encoded_pd.head()\n"
      ],
      "metadata": {
        "colab": {
          "base_uri": "https://localhost:8080/",
          "height": 244
        },
        "id": "707jTXEAsqbY",
        "outputId": "a0e06cbc-f2d7-4d33-d326-84e7524449fd"
      },
      "execution_count": null,
      "outputs": [
        {
          "output_type": "execute_result",
          "data": {
            "text/html": [
              "<div>\n",
              "<style scoped>\n",
              "    .dataframe tbody tr th:only-of-type {\n",
              "        vertical-align: middle;\n",
              "    }\n",
              "\n",
              "    .dataframe tbody tr th {\n",
              "        vertical-align: top;\n",
              "    }\n",
              "\n",
              "    .dataframe thead th {\n",
              "        text-align: right;\n",
              "    }\n",
              "</style>\n",
              "<table border=\"1\" class=\"dataframe\">\n",
              "  <thead>\n",
              "    <tr style=\"text-align: right;\">\n",
              "      <th></th>\n",
              "      <th>GENDER</th>\n",
              "      <th>CAR</th>\n",
              "      <th>REALITY</th>\n",
              "      <th>INCOME</th>\n",
              "      <th>WORK_PHONE</th>\n",
              "      <th>PHONE</th>\n",
              "      <th>E_MAIL</th>\n",
              "      <th>FAMILY SIZE</th>\n",
              "      <th>BEGIN_MONTH</th>\n",
              "      <th>AGE</th>\n",
              "      <th>YEARS_EMPLOYED</th>\n",
              "      <th>TARGET</th>\n",
              "      <th>INCOME_TYPE_Pensioner</th>\n",
              "      <th>INCOME_TYPE_State servant</th>\n",
              "      <th>INCOME_TYPE_Student</th>\n",
              "      <th>INCOME_TYPE_Working</th>\n",
              "      <th>EDUCATION_TYPE_Higher education</th>\n",
              "      <th>EDUCATION_TYPE_Incomplete higher</th>\n",
              "      <th>EDUCATION_TYPE_Lower secondary</th>\n",
              "      <th>EDUCATION_TYPE_Secondary / secondary special</th>\n",
              "      <th>FAMILY_TYPE_Married</th>\n",
              "      <th>FAMILY_TYPE_Separated</th>\n",
              "      <th>FAMILY_TYPE_Single / not married</th>\n",
              "      <th>FAMILY_TYPE_Widow</th>\n",
              "      <th>HOUSE_TYPE_House / apartment</th>\n",
              "      <th>HOUSE_TYPE_Municipal apartment</th>\n",
              "      <th>HOUSE_TYPE_Office apartment</th>\n",
              "      <th>HOUSE_TYPE_Rented apartment</th>\n",
              "      <th>HOUSE_TYPE_With parents</th>\n",
              "    </tr>\n",
              "  </thead>\n",
              "  <tbody>\n",
              "    <tr>\n",
              "      <th>0</th>\n",
              "      <td>1</td>\n",
              "      <td>1</td>\n",
              "      <td>1</td>\n",
              "      <td>112500.0</td>\n",
              "      <td>0</td>\n",
              "      <td>0</td>\n",
              "      <td>0</td>\n",
              "      <td>2.0</td>\n",
              "      <td>29</td>\n",
              "      <td>59</td>\n",
              "      <td>3</td>\n",
              "      <td>0</td>\n",
              "      <td>0</td>\n",
              "      <td>0</td>\n",
              "      <td>0</td>\n",
              "      <td>1</td>\n",
              "      <td>0</td>\n",
              "      <td>0</td>\n",
              "      <td>0</td>\n",
              "      <td>1</td>\n",
              "      <td>1</td>\n",
              "      <td>0</td>\n",
              "      <td>0</td>\n",
              "      <td>0</td>\n",
              "      <td>1</td>\n",
              "      <td>0</td>\n",
              "      <td>0</td>\n",
              "      <td>0</td>\n",
              "      <td>0</td>\n",
              "    </tr>\n",
              "    <tr>\n",
              "      <th>1</th>\n",
              "      <td>0</td>\n",
              "      <td>0</td>\n",
              "      <td>1</td>\n",
              "      <td>270000.0</td>\n",
              "      <td>0</td>\n",
              "      <td>1</td>\n",
              "      <td>1</td>\n",
              "      <td>1.0</td>\n",
              "      <td>4</td>\n",
              "      <td>52</td>\n",
              "      <td>8</td>\n",
              "      <td>0</td>\n",
              "      <td>0</td>\n",
              "      <td>0</td>\n",
              "      <td>0</td>\n",
              "      <td>0</td>\n",
              "      <td>0</td>\n",
              "      <td>0</td>\n",
              "      <td>0</td>\n",
              "      <td>1</td>\n",
              "      <td>0</td>\n",
              "      <td>0</td>\n",
              "      <td>1</td>\n",
              "      <td>0</td>\n",
              "      <td>1</td>\n",
              "      <td>0</td>\n",
              "      <td>0</td>\n",
              "      <td>0</td>\n",
              "      <td>0</td>\n",
              "    </tr>\n",
              "    <tr>\n",
              "      <th>2</th>\n",
              "      <td>0</td>\n",
              "      <td>0</td>\n",
              "      <td>1</td>\n",
              "      <td>270000.0</td>\n",
              "      <td>0</td>\n",
              "      <td>1</td>\n",
              "      <td>1</td>\n",
              "      <td>1.0</td>\n",
              "      <td>26</td>\n",
              "      <td>52</td>\n",
              "      <td>8</td>\n",
              "      <td>0</td>\n",
              "      <td>0</td>\n",
              "      <td>0</td>\n",
              "      <td>0</td>\n",
              "      <td>0</td>\n",
              "      <td>0</td>\n",
              "      <td>0</td>\n",
              "      <td>0</td>\n",
              "      <td>1</td>\n",
              "      <td>0</td>\n",
              "      <td>0</td>\n",
              "      <td>1</td>\n",
              "      <td>0</td>\n",
              "      <td>1</td>\n",
              "      <td>0</td>\n",
              "      <td>0</td>\n",
              "      <td>0</td>\n",
              "      <td>0</td>\n",
              "    </tr>\n",
              "    <tr>\n",
              "      <th>3</th>\n",
              "      <td>0</td>\n",
              "      <td>0</td>\n",
              "      <td>1</td>\n",
              "      <td>270000.0</td>\n",
              "      <td>0</td>\n",
              "      <td>1</td>\n",
              "      <td>1</td>\n",
              "      <td>1.0</td>\n",
              "      <td>26</td>\n",
              "      <td>52</td>\n",
              "      <td>8</td>\n",
              "      <td>0</td>\n",
              "      <td>0</td>\n",
              "      <td>0</td>\n",
              "      <td>0</td>\n",
              "      <td>0</td>\n",
              "      <td>0</td>\n",
              "      <td>0</td>\n",
              "      <td>0</td>\n",
              "      <td>1</td>\n",
              "      <td>0</td>\n",
              "      <td>0</td>\n",
              "      <td>1</td>\n",
              "      <td>0</td>\n",
              "      <td>1</td>\n",
              "      <td>0</td>\n",
              "      <td>0</td>\n",
              "      <td>0</td>\n",
              "      <td>0</td>\n",
              "    </tr>\n",
              "    <tr>\n",
              "      <th>4</th>\n",
              "      <td>0</td>\n",
              "      <td>0</td>\n",
              "      <td>1</td>\n",
              "      <td>270000.0</td>\n",
              "      <td>0</td>\n",
              "      <td>1</td>\n",
              "      <td>1</td>\n",
              "      <td>1.0</td>\n",
              "      <td>38</td>\n",
              "      <td>52</td>\n",
              "      <td>8</td>\n",
              "      <td>0</td>\n",
              "      <td>0</td>\n",
              "      <td>0</td>\n",
              "      <td>0</td>\n",
              "      <td>0</td>\n",
              "      <td>0</td>\n",
              "      <td>0</td>\n",
              "      <td>0</td>\n",
              "      <td>1</td>\n",
              "      <td>0</td>\n",
              "      <td>0</td>\n",
              "      <td>1</td>\n",
              "      <td>0</td>\n",
              "      <td>1</td>\n",
              "      <td>0</td>\n",
              "      <td>0</td>\n",
              "      <td>0</td>\n",
              "      <td>0</td>\n",
              "    </tr>\n",
              "  </tbody>\n",
              "</table>\n",
              "</div>"
            ],
            "text/plain": [
              "   GENDER  CAR  ...  HOUSE_TYPE_Rented apartment  HOUSE_TYPE_With parents\n",
              "0       1    1  ...                            0                        0\n",
              "1       0    0  ...                            0                        0\n",
              "2       0    0  ...                            0                        0\n",
              "3       0    0  ...                            0                        0\n",
              "4       0    0  ...                            0                        0\n",
              "\n",
              "[5 rows x 29 columns]"
            ]
          },
          "metadata": {},
          "execution_count": 52
        }
      ]
    },
    {
      "cell_type": "markdown",
      "source": [
        "On remarque que nos variables quantitatives sont à plus grandes échelle.Or que les algorithmes d'apprentissage automatique donneront plus d'importance aux variables à plus grande échelle.Donc cela nécessite une mise à échelle de nos données."
      ],
      "metadata": {
        "id": "BjTvTfbcaZrM"
      }
    },
    {
      "cell_type": "code",
      "source": [
        "encoded_pd.shape"
      ],
      "metadata": {
        "colab": {
          "base_uri": "https://localhost:8080/"
        },
        "id": "xBAwK_UvtsFL",
        "outputId": "bd781947-69d0-41b9-f0f7-05fec8fabe99"
      },
      "execution_count": null,
      "outputs": [
        {
          "output_type": "execute_result",
          "data": {
            "text/plain": [
              "(25134, 29)"
            ]
          },
          "metadata": {},
          "execution_count": 53
        }
      ]
    },
    {
      "cell_type": "code",
      "source": [
        "from sklearn.preprocessing import MinMaxScaler\n",
        "\n",
        "# Scale only columns that have values greater than 1\n",
        "to_scale = [col for col in encoded_pd.columns if encoded_pd[col].max() > 1]\n",
        "mms = MinMaxScaler()\n",
        "scaled = mms.fit_transform(encoded_pd[to_scale])\n",
        "scaled = pd.DataFrame(scaled, columns=to_scale)\n",
        "\n",
        "# Replace original columns with scaled ones\n",
        "for col in scaled:\n",
        "    encoded_pd[col] = scaled[col]\n",
        "    \n",
        "encoded_pd.head()"
      ],
      "metadata": {
        "colab": {
          "base_uri": "https://localhost:8080/",
          "height": 244
        },
        "id": "aohj9x42t3Ms",
        "outputId": "3e7cf9d5-b431-4525-ce78-5a3ab0833de1"
      },
      "execution_count": null,
      "outputs": [
        {
          "output_type": "execute_result",
          "data": {
            "text/html": [
              "<div>\n",
              "<style scoped>\n",
              "    .dataframe tbody tr th:only-of-type {\n",
              "        vertical-align: middle;\n",
              "    }\n",
              "\n",
              "    .dataframe tbody tr th {\n",
              "        vertical-align: top;\n",
              "    }\n",
              "\n",
              "    .dataframe thead th {\n",
              "        text-align: right;\n",
              "    }\n",
              "</style>\n",
              "<table border=\"1\" class=\"dataframe\">\n",
              "  <thead>\n",
              "    <tr style=\"text-align: right;\">\n",
              "      <th></th>\n",
              "      <th>GENDER</th>\n",
              "      <th>CAR</th>\n",
              "      <th>REALITY</th>\n",
              "      <th>INCOME</th>\n",
              "      <th>WORK_PHONE</th>\n",
              "      <th>PHONE</th>\n",
              "      <th>E_MAIL</th>\n",
              "      <th>FAMILY SIZE</th>\n",
              "      <th>BEGIN_MONTH</th>\n",
              "      <th>AGE</th>\n",
              "      <th>YEARS_EMPLOYED</th>\n",
              "      <th>TARGET</th>\n",
              "      <th>INCOME_TYPE_Pensioner</th>\n",
              "      <th>INCOME_TYPE_State servant</th>\n",
              "      <th>INCOME_TYPE_Student</th>\n",
              "      <th>INCOME_TYPE_Working</th>\n",
              "      <th>EDUCATION_TYPE_Higher education</th>\n",
              "      <th>EDUCATION_TYPE_Incomplete higher</th>\n",
              "      <th>EDUCATION_TYPE_Lower secondary</th>\n",
              "      <th>EDUCATION_TYPE_Secondary / secondary special</th>\n",
              "      <th>FAMILY_TYPE_Married</th>\n",
              "      <th>FAMILY_TYPE_Separated</th>\n",
              "      <th>FAMILY_TYPE_Single / not married</th>\n",
              "      <th>FAMILY_TYPE_Widow</th>\n",
              "      <th>HOUSE_TYPE_House / apartment</th>\n",
              "      <th>HOUSE_TYPE_Municipal apartment</th>\n",
              "      <th>HOUSE_TYPE_Office apartment</th>\n",
              "      <th>HOUSE_TYPE_Rented apartment</th>\n",
              "      <th>HOUSE_TYPE_With parents</th>\n",
              "    </tr>\n",
              "  </thead>\n",
              "  <tbody>\n",
              "    <tr>\n",
              "      <th>0</th>\n",
              "      <td>1</td>\n",
              "      <td>1</td>\n",
              "      <td>1</td>\n",
              "      <td>0.055233</td>\n",
              "      <td>0</td>\n",
              "      <td>0</td>\n",
              "      <td>0</td>\n",
              "      <td>0.052632</td>\n",
              "      <td>0.483333</td>\n",
              "      <td>0.826087</td>\n",
              "      <td>0.069767</td>\n",
              "      <td>0</td>\n",
              "      <td>0</td>\n",
              "      <td>0</td>\n",
              "      <td>0</td>\n",
              "      <td>1</td>\n",
              "      <td>0</td>\n",
              "      <td>0</td>\n",
              "      <td>0</td>\n",
              "      <td>1</td>\n",
              "      <td>1</td>\n",
              "      <td>0</td>\n",
              "      <td>0</td>\n",
              "      <td>0</td>\n",
              "      <td>1</td>\n",
              "      <td>0</td>\n",
              "      <td>0</td>\n",
              "      <td>0</td>\n",
              "      <td>0</td>\n",
              "    </tr>\n",
              "    <tr>\n",
              "      <th>1</th>\n",
              "      <td>0</td>\n",
              "      <td>0</td>\n",
              "      <td>1</td>\n",
              "      <td>0.156977</td>\n",
              "      <td>0</td>\n",
              "      <td>1</td>\n",
              "      <td>1</td>\n",
              "      <td>0.000000</td>\n",
              "      <td>0.066667</td>\n",
              "      <td>0.673913</td>\n",
              "      <td>0.186047</td>\n",
              "      <td>0</td>\n",
              "      <td>0</td>\n",
              "      <td>0</td>\n",
              "      <td>0</td>\n",
              "      <td>0</td>\n",
              "      <td>0</td>\n",
              "      <td>0</td>\n",
              "      <td>0</td>\n",
              "      <td>1</td>\n",
              "      <td>0</td>\n",
              "      <td>0</td>\n",
              "      <td>1</td>\n",
              "      <td>0</td>\n",
              "      <td>1</td>\n",
              "      <td>0</td>\n",
              "      <td>0</td>\n",
              "      <td>0</td>\n",
              "      <td>0</td>\n",
              "    </tr>\n",
              "    <tr>\n",
              "      <th>2</th>\n",
              "      <td>0</td>\n",
              "      <td>0</td>\n",
              "      <td>1</td>\n",
              "      <td>0.156977</td>\n",
              "      <td>0</td>\n",
              "      <td>1</td>\n",
              "      <td>1</td>\n",
              "      <td>0.000000</td>\n",
              "      <td>0.433333</td>\n",
              "      <td>0.673913</td>\n",
              "      <td>0.186047</td>\n",
              "      <td>0</td>\n",
              "      <td>0</td>\n",
              "      <td>0</td>\n",
              "      <td>0</td>\n",
              "      <td>0</td>\n",
              "      <td>0</td>\n",
              "      <td>0</td>\n",
              "      <td>0</td>\n",
              "      <td>1</td>\n",
              "      <td>0</td>\n",
              "      <td>0</td>\n",
              "      <td>1</td>\n",
              "      <td>0</td>\n",
              "      <td>1</td>\n",
              "      <td>0</td>\n",
              "      <td>0</td>\n",
              "      <td>0</td>\n",
              "      <td>0</td>\n",
              "    </tr>\n",
              "    <tr>\n",
              "      <th>3</th>\n",
              "      <td>0</td>\n",
              "      <td>0</td>\n",
              "      <td>1</td>\n",
              "      <td>0.156977</td>\n",
              "      <td>0</td>\n",
              "      <td>1</td>\n",
              "      <td>1</td>\n",
              "      <td>0.000000</td>\n",
              "      <td>0.433333</td>\n",
              "      <td>0.673913</td>\n",
              "      <td>0.186047</td>\n",
              "      <td>0</td>\n",
              "      <td>0</td>\n",
              "      <td>0</td>\n",
              "      <td>0</td>\n",
              "      <td>0</td>\n",
              "      <td>0</td>\n",
              "      <td>0</td>\n",
              "      <td>0</td>\n",
              "      <td>1</td>\n",
              "      <td>0</td>\n",
              "      <td>0</td>\n",
              "      <td>1</td>\n",
              "      <td>0</td>\n",
              "      <td>1</td>\n",
              "      <td>0</td>\n",
              "      <td>0</td>\n",
              "      <td>0</td>\n",
              "      <td>0</td>\n",
              "    </tr>\n",
              "    <tr>\n",
              "      <th>4</th>\n",
              "      <td>0</td>\n",
              "      <td>0</td>\n",
              "      <td>1</td>\n",
              "      <td>0.156977</td>\n",
              "      <td>0</td>\n",
              "      <td>1</td>\n",
              "      <td>1</td>\n",
              "      <td>0.000000</td>\n",
              "      <td>0.633333</td>\n",
              "      <td>0.673913</td>\n",
              "      <td>0.186047</td>\n",
              "      <td>0</td>\n",
              "      <td>0</td>\n",
              "      <td>0</td>\n",
              "      <td>0</td>\n",
              "      <td>0</td>\n",
              "      <td>0</td>\n",
              "      <td>0</td>\n",
              "      <td>0</td>\n",
              "      <td>1</td>\n",
              "      <td>0</td>\n",
              "      <td>0</td>\n",
              "      <td>1</td>\n",
              "      <td>0</td>\n",
              "      <td>1</td>\n",
              "      <td>0</td>\n",
              "      <td>0</td>\n",
              "      <td>0</td>\n",
              "      <td>0</td>\n",
              "    </tr>\n",
              "  </tbody>\n",
              "</table>\n",
              "</div>"
            ],
            "text/plain": [
              "   GENDER  CAR  ...  HOUSE_TYPE_Rented apartment  HOUSE_TYPE_With parents\n",
              "0       1    1  ...                            0                        0\n",
              "1       0    0  ...                            0                        0\n",
              "2       0    0  ...                            0                        0\n",
              "3       0    0  ...                            0                        0\n",
              "4       0    0  ...                            0                        0\n",
              "\n",
              "[5 rows x 29 columns]"
            ]
          },
          "metadata": {},
          "execution_count": 54
        }
      ]
    },
    {
      "cell_type": "code",
      "source": [
        "encoded_pd.columns"
      ],
      "metadata": {
        "colab": {
          "base_uri": "https://localhost:8080/"
        },
        "id": "t9JKXjGJvvLk",
        "outputId": "d5e1c616-5d46-4fbd-acd9-34564fa9573e"
      },
      "execution_count": null,
      "outputs": [
        {
          "output_type": "execute_result",
          "data": {
            "text/plain": [
              "Index(['GENDER', 'CAR', 'REALITY', 'INCOME', 'WORK_PHONE', 'PHONE', 'E_MAIL',\n",
              "       'FAMILY SIZE', 'BEGIN_MONTH', 'AGE', 'YEARS_EMPLOYED', 'TARGET',\n",
              "       'INCOME_TYPE_Pensioner', 'INCOME_TYPE_State servant',\n",
              "       'INCOME_TYPE_Student', 'INCOME_TYPE_Working',\n",
              "       'EDUCATION_TYPE_Higher education', 'EDUCATION_TYPE_Incomplete higher',\n",
              "       'EDUCATION_TYPE_Lower secondary',\n",
              "       'EDUCATION_TYPE_Secondary / secondary special', 'FAMILY_TYPE_Married',\n",
              "       'FAMILY_TYPE_Separated', 'FAMILY_TYPE_Single / not married',\n",
              "       'FAMILY_TYPE_Widow', 'HOUSE_TYPE_House / apartment',\n",
              "       'HOUSE_TYPE_Municipal apartment', 'HOUSE_TYPE_Office apartment',\n",
              "       'HOUSE_TYPE_Rented apartment', 'HOUSE_TYPE_With parents'],\n",
              "      dtype='object')"
            ]
          },
          "metadata": {},
          "execution_count": 55
        }
      ]
    },
    {
      "cell_type": "code",
      "source": [
        "var_quali=['GENDER','CAR','REALITY','WORK_PHONE','PHONE','E_MAIL','INCOME_TYPE_Pensioner', 'INCOME_TYPE_State servant',\n",
        "       'INCOME_TYPE_Student', 'INCOME_TYPE_Working',\n",
        "       'EDUCATION_TYPE_Higher education', 'EDUCATION_TYPE_Incomplete higher',\n",
        "       'EDUCATION_TYPE_Lower secondary',\n",
        "       'EDUCATION_TYPE_Secondary / secondary special', 'FAMILY_TYPE_Married',\n",
        "       'FAMILY_TYPE_Separated', 'FAMILY_TYPE_Single / not married',\n",
        "       'FAMILY_TYPE_Widow', 'HOUSE_TYPE_House / apartment',\n",
        "       'HOUSE_TYPE_Municipal apartment', 'HOUSE_TYPE_Office apartment',\n",
        "       'HOUSE_TYPE_Rented apartment', 'HOUSE_TYPE_With parents']\n",
        "var_quanti=['INCOME','FAMILY SIZE','BEGIN_MONTH','AGE','YEARS_EMPLOYED']\n",
        "df1=encoded_pd[var_quali]\n",
        "df2=encoded_pd[var_quanti]"
      ],
      "metadata": {
        "id": "U7y29bQ3u0bL"
      },
      "execution_count": null,
      "outputs": []
    },
    {
      "cell_type": "code",
      "source": [
        "y=encoded_pd['TARGET']"
      ],
      "metadata": {
        "id": "CJmIbS08wChH"
      },
      "execution_count": null,
      "outputs": []
    },
    {
      "cell_type": "code",
      "source": [
        "from sklearn.feature_selection import SelectKBest,chi2,f_classif\n",
        "chi2(df1,y)"
      ],
      "metadata": {
        "colab": {
          "base_uri": "https://localhost:8080/"
        },
        "id": "kdMld0B0wws6",
        "outputId": "93af25ad-2360-4630-b0b2-fdb9034d5488"
      },
      "execution_count": null,
      "outputs": [
        {
          "output_type": "execute_result",
          "data": {
            "text/plain": [
              "(array([6.70241126e+00, 1.09654273e-03, 4.10040406e+00, 6.28670500e-01,\n",
              "        1.62446150e-01, 6.50630357e-03, 7.61270142e+02, 3.53019730e+00,\n",
              "        1.70767239e-01, 6.48749385e-03, 5.78611184e-01, 1.14243813e+00,\n",
              "        2.65017782e+00, 8.33374936e-01, 9.97063651e-01, 3.83009857e+00,\n",
              "        1.11296306e+01, 2.89163200e+00, 1.37877965e-01, 2.14848150e+00,\n",
              "        8.37591064e-01, 2.59295173e-01, 4.15425747e-02]),\n",
              " array([9.62826158e-003, 9.73583609e-001, 4.28729663e-002, 4.27843403e-001,\n",
              "        6.86914319e-001, 9.35711027e-001, 1.42197200e-167, 6.02606171e-002,\n",
              "        6.79430837e-001, 9.35803823e-001, 4.46857208e-001, 2.85137727e-001,\n",
              "        1.03538314e-001, 3.61298443e-001, 3.18022063e-001, 5.03399722e-002,\n",
              "        8.49595116e-004, 8.90406882e-002, 7.10399783e-001, 1.42710975e-001,\n",
              "        3.60086638e-001, 6.10604794e-001, 8.38494197e-001]))"
            ]
          },
          "metadata": {},
          "execution_count": 58
        }
      ]
    },
    {
      "cell_type": "code",
      "source": [
        "#Selection des variables\n",
        "selector = SelectKBest(chi2,k=15)\n",
        "selector.fit(df1, y)\n",
        "np.array(var_quali)[selector.get_support()]"
      ],
      "metadata": {
        "colab": {
          "base_uri": "https://localhost:8080/"
        },
        "id": "oIJMi05ZwM9W",
        "outputId": "c5e38d62-0647-44b9-d41b-81ad9c31874d"
      },
      "execution_count": null,
      "outputs": [
        {
          "output_type": "execute_result",
          "data": {
            "text/plain": [
              "array(['GENDER', 'REALITY', 'WORK_PHONE', 'INCOME_TYPE_Pensioner',\n",
              "       'INCOME_TYPE_State servant', 'EDUCATION_TYPE_Higher education',\n",
              "       'EDUCATION_TYPE_Incomplete higher',\n",
              "       'EDUCATION_TYPE_Lower secondary',\n",
              "       'EDUCATION_TYPE_Secondary / secondary special',\n",
              "       'FAMILY_TYPE_Married', 'FAMILY_TYPE_Separated',\n",
              "       'FAMILY_TYPE_Single / not married', 'FAMILY_TYPE_Widow',\n",
              "       'HOUSE_TYPE_Municipal apartment', 'HOUSE_TYPE_Office apartment'],\n",
              "      dtype='<U44')"
            ]
          },
          "metadata": {},
          "execution_count": 59
        }
      ]
    },
    {
      "cell_type": "code",
      "source": [
        "f_classif(df2,y)"
      ],
      "metadata": {
        "colab": {
          "base_uri": "https://localhost:8080/"
        },
        "id": "sExO5q8AxLEH",
        "outputId": "886bc1a3-1cd6-418f-a6bb-32ca4e1b3602"
      },
      "execution_count": null,
      "outputs": [
        {
          "output_type": "execute_result",
          "data": {
            "text/plain": [
              "(array([ 1.07168359,  0.78438937, 92.98060215,  1.56074485, 28.01183066]),\n",
              " array([3.00575433e-01, 3.75810540e-01, 5.76456522e-22, 2.11567828e-01,\n",
              "        1.21586927e-07]))"
            ]
          },
          "metadata": {},
          "execution_count": 60
        }
      ]
    },
    {
      "cell_type": "code",
      "source": [
        "selector1 = SelectKBest(f_classif,k=5)\n",
        "selector1.fit(df2, y)\n",
        "np.array(var_quanti)[selector1.get_support()]"
      ],
      "metadata": {
        "colab": {
          "base_uri": "https://localhost:8080/"
        },
        "id": "ricw77CbxW57",
        "outputId": "8b028f66-f7eb-4ea5-8859-10945e9aac2c"
      },
      "execution_count": null,
      "outputs": [
        {
          "output_type": "execute_result",
          "data": {
            "text/plain": [
              "array(['INCOME', 'FAMILY SIZE', 'BEGIN_MONTH', 'AGE', 'YEARS_EMPLOYED'],\n",
              "      dtype='<U14')"
            ]
          },
          "metadata": {},
          "execution_count": 61
        }
      ]
    },
    {
      "cell_type": "code",
      "source": [
        "var_select=['INCOME', 'FAMILY SIZE', 'BEGIN_MONTH', 'AGE', 'YEARS_EMPLOYED', 'GENDER', 'REALITY', 'WORK_PHONE', 'INCOME_TYPE_Pensioner',\n",
        "       'INCOME_TYPE_State servant', 'EDUCATION_TYPE_Higher education',\n",
        "       'EDUCATION_TYPE_Incomplete higher',\n",
        "       'EDUCATION_TYPE_Lower secondary',\n",
        "       'EDUCATION_TYPE_Secondary / secondary special',\n",
        "       'FAMILY_TYPE_Married', 'FAMILY_TYPE_Separated',\n",
        "       'FAMILY_TYPE_Single / not married', 'FAMILY_TYPE_Widow',\n",
        "       'HOUSE_TYPE_Municipal apartment', 'HOUSE_TYPE_Office apartment']\n",
        "\n",
        "X=encoded_pd[var_select]\n",
        "X"
      ],
      "metadata": {
        "colab": {
          "base_uri": "https://localhost:8080/",
          "height": 461
        },
        "id": "gasFiI-J0WjC",
        "outputId": "4e918c34-56aa-4578-8b01-3d2d7bffe094"
      },
      "execution_count": null,
      "outputs": [
        {
          "output_type": "execute_result",
          "data": {
            "text/html": [
              "<div>\n",
              "<style scoped>\n",
              "    .dataframe tbody tr th:only-of-type {\n",
              "        vertical-align: middle;\n",
              "    }\n",
              "\n",
              "    .dataframe tbody tr th {\n",
              "        vertical-align: top;\n",
              "    }\n",
              "\n",
              "    .dataframe thead th {\n",
              "        text-align: right;\n",
              "    }\n",
              "</style>\n",
              "<table border=\"1\" class=\"dataframe\">\n",
              "  <thead>\n",
              "    <tr style=\"text-align: right;\">\n",
              "      <th></th>\n",
              "      <th>INCOME</th>\n",
              "      <th>FAMILY SIZE</th>\n",
              "      <th>BEGIN_MONTH</th>\n",
              "      <th>AGE</th>\n",
              "      <th>YEARS_EMPLOYED</th>\n",
              "      <th>GENDER</th>\n",
              "      <th>REALITY</th>\n",
              "      <th>WORK_PHONE</th>\n",
              "      <th>INCOME_TYPE_Pensioner</th>\n",
              "      <th>INCOME_TYPE_State servant</th>\n",
              "      <th>EDUCATION_TYPE_Higher education</th>\n",
              "      <th>EDUCATION_TYPE_Incomplete higher</th>\n",
              "      <th>EDUCATION_TYPE_Lower secondary</th>\n",
              "      <th>EDUCATION_TYPE_Secondary / secondary special</th>\n",
              "      <th>FAMILY_TYPE_Married</th>\n",
              "      <th>FAMILY_TYPE_Separated</th>\n",
              "      <th>FAMILY_TYPE_Single / not married</th>\n",
              "      <th>FAMILY_TYPE_Widow</th>\n",
              "      <th>HOUSE_TYPE_Municipal apartment</th>\n",
              "      <th>HOUSE_TYPE_Office apartment</th>\n",
              "    </tr>\n",
              "  </thead>\n",
              "  <tbody>\n",
              "    <tr>\n",
              "      <th>0</th>\n",
              "      <td>0.055233</td>\n",
              "      <td>0.052632</td>\n",
              "      <td>0.483333</td>\n",
              "      <td>0.826087</td>\n",
              "      <td>0.069767</td>\n",
              "      <td>1</td>\n",
              "      <td>1</td>\n",
              "      <td>0</td>\n",
              "      <td>0</td>\n",
              "      <td>0</td>\n",
              "      <td>0</td>\n",
              "      <td>0</td>\n",
              "      <td>0</td>\n",
              "      <td>1</td>\n",
              "      <td>1</td>\n",
              "      <td>0</td>\n",
              "      <td>0</td>\n",
              "      <td>0</td>\n",
              "      <td>0</td>\n",
              "      <td>0</td>\n",
              "    </tr>\n",
              "    <tr>\n",
              "      <th>1</th>\n",
              "      <td>0.156977</td>\n",
              "      <td>0.000000</td>\n",
              "      <td>0.066667</td>\n",
              "      <td>0.673913</td>\n",
              "      <td>0.186047</td>\n",
              "      <td>0</td>\n",
              "      <td>1</td>\n",
              "      <td>0</td>\n",
              "      <td>0</td>\n",
              "      <td>0</td>\n",
              "      <td>0</td>\n",
              "      <td>0</td>\n",
              "      <td>0</td>\n",
              "      <td>1</td>\n",
              "      <td>0</td>\n",
              "      <td>0</td>\n",
              "      <td>1</td>\n",
              "      <td>0</td>\n",
              "      <td>0</td>\n",
              "      <td>0</td>\n",
              "    </tr>\n",
              "    <tr>\n",
              "      <th>2</th>\n",
              "      <td>0.156977</td>\n",
              "      <td>0.000000</td>\n",
              "      <td>0.433333</td>\n",
              "      <td>0.673913</td>\n",
              "      <td>0.186047</td>\n",
              "      <td>0</td>\n",
              "      <td>1</td>\n",
              "      <td>0</td>\n",
              "      <td>0</td>\n",
              "      <td>0</td>\n",
              "      <td>0</td>\n",
              "      <td>0</td>\n",
              "      <td>0</td>\n",
              "      <td>1</td>\n",
              "      <td>0</td>\n",
              "      <td>0</td>\n",
              "      <td>1</td>\n",
              "      <td>0</td>\n",
              "      <td>0</td>\n",
              "      <td>0</td>\n",
              "    </tr>\n",
              "    <tr>\n",
              "      <th>3</th>\n",
              "      <td>0.156977</td>\n",
              "      <td>0.000000</td>\n",
              "      <td>0.433333</td>\n",
              "      <td>0.673913</td>\n",
              "      <td>0.186047</td>\n",
              "      <td>0</td>\n",
              "      <td>1</td>\n",
              "      <td>0</td>\n",
              "      <td>0</td>\n",
              "      <td>0</td>\n",
              "      <td>0</td>\n",
              "      <td>0</td>\n",
              "      <td>0</td>\n",
              "      <td>1</td>\n",
              "      <td>0</td>\n",
              "      <td>0</td>\n",
              "      <td>1</td>\n",
              "      <td>0</td>\n",
              "      <td>0</td>\n",
              "      <td>0</td>\n",
              "    </tr>\n",
              "    <tr>\n",
              "      <th>4</th>\n",
              "      <td>0.156977</td>\n",
              "      <td>0.000000</td>\n",
              "      <td>0.633333</td>\n",
              "      <td>0.673913</td>\n",
              "      <td>0.186047</td>\n",
              "      <td>0</td>\n",
              "      <td>1</td>\n",
              "      <td>0</td>\n",
              "      <td>0</td>\n",
              "      <td>0</td>\n",
              "      <td>0</td>\n",
              "      <td>0</td>\n",
              "      <td>0</td>\n",
              "      <td>1</td>\n",
              "      <td>0</td>\n",
              "      <td>0</td>\n",
              "      <td>1</td>\n",
              "      <td>0</td>\n",
              "      <td>0</td>\n",
              "      <td>0</td>\n",
              "    </tr>\n",
              "    <tr>\n",
              "      <th>...</th>\n",
              "      <td>...</td>\n",
              "      <td>...</td>\n",
              "      <td>...</td>\n",
              "      <td>...</td>\n",
              "      <td>...</td>\n",
              "      <td>...</td>\n",
              "      <td>...</td>\n",
              "      <td>...</td>\n",
              "      <td>...</td>\n",
              "      <td>...</td>\n",
              "      <td>...</td>\n",
              "      <td>...</td>\n",
              "      <td>...</td>\n",
              "      <td>...</td>\n",
              "      <td>...</td>\n",
              "      <td>...</td>\n",
              "      <td>...</td>\n",
              "      <td>...</td>\n",
              "      <td>...</td>\n",
              "      <td>...</td>\n",
              "    </tr>\n",
              "    <tr>\n",
              "      <th>25129</th>\n",
              "      <td>0.186047</td>\n",
              "      <td>0.052632</td>\n",
              "      <td>0.183333</td>\n",
              "      <td>0.586957</td>\n",
              "      <td>0.162791</td>\n",
              "      <td>1</td>\n",
              "      <td>1</td>\n",
              "      <td>0</td>\n",
              "      <td>0</td>\n",
              "      <td>0</td>\n",
              "      <td>0</td>\n",
              "      <td>0</td>\n",
              "      <td>0</td>\n",
              "      <td>1</td>\n",
              "      <td>1</td>\n",
              "      <td>0</td>\n",
              "      <td>0</td>\n",
              "      <td>0</td>\n",
              "      <td>0</td>\n",
              "      <td>0</td>\n",
              "    </tr>\n",
              "    <tr>\n",
              "      <th>25130</th>\n",
              "      <td>0.084302</td>\n",
              "      <td>0.052632</td>\n",
              "      <td>0.383333</td>\n",
              "      <td>0.282609</td>\n",
              "      <td>0.093023</td>\n",
              "      <td>0</td>\n",
              "      <td>1</td>\n",
              "      <td>0</td>\n",
              "      <td>0</td>\n",
              "      <td>0</td>\n",
              "      <td>1</td>\n",
              "      <td>0</td>\n",
              "      <td>0</td>\n",
              "      <td>0</td>\n",
              "      <td>1</td>\n",
              "      <td>0</td>\n",
              "      <td>0</td>\n",
              "      <td>0</td>\n",
              "      <td>0</td>\n",
              "      <td>0</td>\n",
              "    </tr>\n",
              "    <tr>\n",
              "      <th>25131</th>\n",
              "      <td>0.084302</td>\n",
              "      <td>0.052632</td>\n",
              "      <td>0.533333</td>\n",
              "      <td>0.282609</td>\n",
              "      <td>0.093023</td>\n",
              "      <td>0</td>\n",
              "      <td>1</td>\n",
              "      <td>0</td>\n",
              "      <td>1</td>\n",
              "      <td>0</td>\n",
              "      <td>1</td>\n",
              "      <td>0</td>\n",
              "      <td>0</td>\n",
              "      <td>0</td>\n",
              "      <td>1</td>\n",
              "      <td>0</td>\n",
              "      <td>0</td>\n",
              "      <td>0</td>\n",
              "      <td>0</td>\n",
              "      <td>0</td>\n",
              "    </tr>\n",
              "    <tr>\n",
              "      <th>25132</th>\n",
              "      <td>0.165698</td>\n",
              "      <td>0.052632</td>\n",
              "      <td>0.150000</td>\n",
              "      <td>0.608696</td>\n",
              "      <td>0.046512</td>\n",
              "      <td>0</td>\n",
              "      <td>1</td>\n",
              "      <td>0</td>\n",
              "      <td>0</td>\n",
              "      <td>0</td>\n",
              "      <td>0</td>\n",
              "      <td>0</td>\n",
              "      <td>0</td>\n",
              "      <td>1</td>\n",
              "      <td>1</td>\n",
              "      <td>0</td>\n",
              "      <td>0</td>\n",
              "      <td>0</td>\n",
              "      <td>0</td>\n",
              "      <td>0</td>\n",
              "    </tr>\n",
              "    <tr>\n",
              "      <th>25133</th>\n",
              "      <td>0.055233</td>\n",
              "      <td>0.000000</td>\n",
              "      <td>0.216667</td>\n",
              "      <td>0.086957</td>\n",
              "      <td>0.069767</td>\n",
              "      <td>1</td>\n",
              "      <td>1</td>\n",
              "      <td>0</td>\n",
              "      <td>0</td>\n",
              "      <td>0</td>\n",
              "      <td>0</td>\n",
              "      <td>0</td>\n",
              "      <td>0</td>\n",
              "      <td>1</td>\n",
              "      <td>0</td>\n",
              "      <td>0</td>\n",
              "      <td>1</td>\n",
              "      <td>0</td>\n",
              "      <td>0</td>\n",
              "      <td>0</td>\n",
              "    </tr>\n",
              "  </tbody>\n",
              "</table>\n",
              "<p>25134 rows × 20 columns</p>\n",
              "</div>"
            ],
            "text/plain": [
              "         INCOME  ...  HOUSE_TYPE_Office apartment\n",
              "0      0.055233  ...                            0\n",
              "1      0.156977  ...                            0\n",
              "2      0.156977  ...                            0\n",
              "3      0.156977  ...                            0\n",
              "4      0.156977  ...                            0\n",
              "...         ...  ...                          ...\n",
              "25129  0.186047  ...                            0\n",
              "25130  0.084302  ...                            0\n",
              "25131  0.084302  ...                            0\n",
              "25132  0.165698  ...                            0\n",
              "25133  0.055233  ...                            0\n",
              "\n",
              "[25134 rows x 20 columns]"
            ]
          },
          "metadata": {},
          "execution_count": 62
        }
      ]
    },
    {
      "cell_type": "code",
      "source": [
        "import sklearn\n",
        "from sklearn import tree\n",
        "from sklearn.metrics import roc_curve\n",
        "from sklearn.metrics import classification_report\n",
        "from sklearn.linear_model import LogisticRegression\n",
        "from sklearn.model_selection import KFold, cross_validate\n",
        "from sklearn.metrics import recall_score, f1_score, roc_auc_score\n",
        "from sklearn.metrics import confusion_matrix, accuracy_score, precision_score\n",
        "from sklearn.model_selection import train_test_split\n",
        "from sklearn.tree import DecisionTreeClassifier"
      ],
      "metadata": {
        "id": "kBxFQmqS2DK6"
      },
      "execution_count": null,
      "outputs": []
    },
    {
      "cell_type": "code",
      "source": [
        "# Splitting Train and Test Data\n",
        "X_train,X_test,y_train,y_test  = train_test_split(X,\n",
        "                                              y,\n",
        "                                              test_size=0.2,\n",
        "                                              random_state = 42)\n",
        "columns = X_train.columns"
      ],
      "metadata": {
        "id": "lM7lP0rZ152e"
      },
      "execution_count": null,
      "outputs": []
    },
    {
      "cell_type": "markdown",
      "source": [
        "**REGRESSION LOGISTIQUE**"
      ],
      "metadata": {
        "id": "7qU6MZLH8_St"
      }
    },
    {
      "cell_type": "code",
      "source": [
        "# Define feature selection method\n",
        "from sklearn.model_selection import GridSearchCV\n",
        "from sklearn.model_selection import RepeatedStratifiedKFold\n",
        "cv = RepeatedStratifiedKFold(n_splits=10, n_repeats=3, random_state=1)\n",
        "model1 = LogisticRegression()\n",
        "\n",
        "params = {\n",
        "    'penalty'      : ['none', 'l1', 'l2', 'elasticnet'],\n",
        "    'C'            : [0.001, 0.005, 0.01, 0.25, 0.5, 0.75, 0.9, 1, 1.01, 1.05, 1.1, 1.15, 1.2],\n",
        "    'solver'       : ['newton-cg', 'lbfgs', 'liblinear'],\n",
        "    'fit_intercept': [True, False]\n",
        "}\n",
        "search = GridSearchCV(model1, params, scoring='accuracy', n_jobs=-1, cv=cv)\n",
        "result = search.fit(X_train, y_train)\n",
        "\n",
        "# summarize result\n",
        "print('Best Score: %s' % result.best_score_)\n",
        "print('Best Hyperparameters: %s' % result.best_params_)"
      ],
      "metadata": {
        "colab": {
          "base_uri": "https://localhost:8080/"
        },
        "id": "niqhVoFv2LlJ",
        "outputId": "4c86ccce-513a-40de-d572-e97b48227d8a"
      },
      "execution_count": null,
      "outputs": [
        {
          "output_type": "stream",
          "name": "stderr",
          "text": [
            "/usr/local/lib/python3.7/dist-packages/sklearn/model_selection/_validation.py:372: FitFailedWarning: \n",
            "4680 fits failed out of a total of 9360.\n",
            "The score on these train-test partitions for these parameters will be set to nan.\n",
            "If these failures are not expected, you can try to debug them by setting error_score='raise'.\n",
            "\n",
            "Below are more details about the failures:\n",
            "--------------------------------------------------------------------------------\n",
            "780 fits failed with the following error:\n",
            "Traceback (most recent call last):\n",
            "  File \"/usr/local/lib/python3.7/dist-packages/sklearn/model_selection/_validation.py\", line 681, in _fit_and_score\n",
            "    estimator.fit(X_train, y_train, **fit_params)\n",
            "  File \"/usr/local/lib/python3.7/dist-packages/sklearn/linear_model/_logistic.py\", line 1461, in fit\n",
            "    solver = _check_solver(self.solver, self.penalty, self.dual)\n",
            "  File \"/usr/local/lib/python3.7/dist-packages/sklearn/linear_model/_logistic.py\", line 464, in _check_solver\n",
            "    raise ValueError(\"penalty='none' is not supported for the liblinear solver\")\n",
            "ValueError: penalty='none' is not supported for the liblinear solver\n",
            "\n",
            "--------------------------------------------------------------------------------\n",
            "780 fits failed with the following error:\n",
            "Traceback (most recent call last):\n",
            "  File \"/usr/local/lib/python3.7/dist-packages/sklearn/model_selection/_validation.py\", line 681, in _fit_and_score\n",
            "    estimator.fit(X_train, y_train, **fit_params)\n",
            "  File \"/usr/local/lib/python3.7/dist-packages/sklearn/linear_model/_logistic.py\", line 1461, in fit\n",
            "    solver = _check_solver(self.solver, self.penalty, self.dual)\n",
            "  File \"/usr/local/lib/python3.7/dist-packages/sklearn/linear_model/_logistic.py\", line 449, in _check_solver\n",
            "    % (solver, penalty)\n",
            "ValueError: Solver newton-cg supports only 'l2' or 'none' penalties, got l1 penalty.\n",
            "\n",
            "--------------------------------------------------------------------------------\n",
            "780 fits failed with the following error:\n",
            "Traceback (most recent call last):\n",
            "  File \"/usr/local/lib/python3.7/dist-packages/sklearn/model_selection/_validation.py\", line 681, in _fit_and_score\n",
            "    estimator.fit(X_train, y_train, **fit_params)\n",
            "  File \"/usr/local/lib/python3.7/dist-packages/sklearn/linear_model/_logistic.py\", line 1461, in fit\n",
            "    solver = _check_solver(self.solver, self.penalty, self.dual)\n",
            "  File \"/usr/local/lib/python3.7/dist-packages/sklearn/linear_model/_logistic.py\", line 449, in _check_solver\n",
            "    % (solver, penalty)\n",
            "ValueError: Solver lbfgs supports only 'l2' or 'none' penalties, got l1 penalty.\n",
            "\n",
            "--------------------------------------------------------------------------------\n",
            "780 fits failed with the following error:\n",
            "Traceback (most recent call last):\n",
            "  File \"/usr/local/lib/python3.7/dist-packages/sklearn/model_selection/_validation.py\", line 681, in _fit_and_score\n",
            "    estimator.fit(X_train, y_train, **fit_params)\n",
            "  File \"/usr/local/lib/python3.7/dist-packages/sklearn/linear_model/_logistic.py\", line 1461, in fit\n",
            "    solver = _check_solver(self.solver, self.penalty, self.dual)\n",
            "  File \"/usr/local/lib/python3.7/dist-packages/sklearn/linear_model/_logistic.py\", line 449, in _check_solver\n",
            "    % (solver, penalty)\n",
            "ValueError: Solver newton-cg supports only 'l2' or 'none' penalties, got elasticnet penalty.\n",
            "\n",
            "--------------------------------------------------------------------------------\n",
            "780 fits failed with the following error:\n",
            "Traceback (most recent call last):\n",
            "  File \"/usr/local/lib/python3.7/dist-packages/sklearn/model_selection/_validation.py\", line 681, in _fit_and_score\n",
            "    estimator.fit(X_train, y_train, **fit_params)\n",
            "  File \"/usr/local/lib/python3.7/dist-packages/sklearn/linear_model/_logistic.py\", line 1461, in fit\n",
            "    solver = _check_solver(self.solver, self.penalty, self.dual)\n",
            "  File \"/usr/local/lib/python3.7/dist-packages/sklearn/linear_model/_logistic.py\", line 449, in _check_solver\n",
            "    % (solver, penalty)\n",
            "ValueError: Solver lbfgs supports only 'l2' or 'none' penalties, got elasticnet penalty.\n",
            "\n",
            "--------------------------------------------------------------------------------\n",
            "780 fits failed with the following error:\n",
            "Traceback (most recent call last):\n",
            "  File \"/usr/local/lib/python3.7/dist-packages/sklearn/model_selection/_validation.py\", line 681, in _fit_and_score\n",
            "    estimator.fit(X_train, y_train, **fit_params)\n",
            "  File \"/usr/local/lib/python3.7/dist-packages/sklearn/linear_model/_logistic.py\", line 1461, in fit\n",
            "    solver = _check_solver(self.solver, self.penalty, self.dual)\n",
            "  File \"/usr/local/lib/python3.7/dist-packages/sklearn/linear_model/_logistic.py\", line 459, in _check_solver\n",
            "    solver\n",
            "ValueError: Only 'saga' solver supports elasticnet penalty, got solver=liblinear.\n",
            "\n",
            "  warnings.warn(some_fits_failed_message, FitFailedWarning)\n",
            "/usr/local/lib/python3.7/dist-packages/sklearn/model_selection/_search.py:972: UserWarning: One or more of the test scores are non-finite: [0.9838365  0.9838365         nan        nan        nan 0.98328945\n",
            " 0.98328945 0.98328945 0.98328945        nan        nan        nan\n",
            " 0.98340547 0.98340547        nan        nan        nan 0.98328945\n",
            " 0.98328945 0.98328945 0.98328945        nan        nan        nan\n",
            " 0.9838365  0.9838365         nan        nan        nan 0.98328945\n",
            " 0.98328945 0.98328945 0.98328945        nan        nan        nan\n",
            " 0.98340547 0.98340547        nan        nan        nan 0.98328945\n",
            " 0.98328945 0.98328945 0.98328945        nan        nan        nan\n",
            " 0.9838365  0.9838365         nan        nan        nan 0.98328945\n",
            " 0.98328945 0.98328945 0.98328945        nan        nan        nan\n",
            " 0.98340547 0.98340547        nan        nan        nan 0.98328945\n",
            " 0.98328945 0.98328945 0.98328945        nan        nan        nan\n",
            " 0.9838365  0.9838365         nan        nan        nan 0.98370387\n",
            " 0.98328945 0.98328945 0.98328945        nan        nan        nan\n",
            " 0.98340547 0.98340547        nan        nan        nan 0.9836873\n",
            " 0.98328945 0.98328945 0.98328945        nan        nan        nan\n",
            " 0.9838365  0.9838365         nan        nan        nan 0.98381992\n",
            " 0.98328945 0.98328945 0.98328945        nan        nan        nan\n",
            " 0.98340547 0.98340547        nan        nan        nan 0.98365416\n",
            " 0.98328945 0.98328945 0.98328945        nan        nan        nan\n",
            " 0.9838365  0.9838365         nan        nan        nan 0.9838365\n",
            " 0.98340547 0.98340547 0.98343863        nan        nan        nan\n",
            " 0.98340547 0.98340547        nan        nan        nan 0.98352154\n",
            " 0.98343863 0.98343863 0.98343863        nan        nan        nan\n",
            " 0.9838365  0.9838365         nan        nan        nan 0.9838365\n",
            " 0.98355468 0.98355468 0.98357125        nan        nan        nan\n",
            " 0.98340547 0.98340547        nan        nan        nan 0.98352154\n",
            " 0.98355467 0.98355467 0.98355467        nan        nan        nan\n",
            " 0.9838365  0.9838365         nan        nan        nan 0.9838365\n",
            " 0.98363757 0.98363757 0.98362099        nan        nan        nan\n",
            " 0.98340547 0.98340547        nan        nan        nan 0.98352154\n",
            " 0.98358783 0.98358783 0.98358783        nan        nan        nan\n",
            " 0.9838365  0.9838365         nan        nan        nan 0.9838365\n",
            " 0.98363757 0.98363757 0.98363757        nan        nan        nan\n",
            " 0.98340547 0.98340547        nan        nan        nan 0.98352154\n",
            " 0.9836044  0.9836044  0.9836044         nan        nan        nan\n",
            " 0.9838365  0.9838365         nan        nan        nan 0.9838365\n",
            " 0.98367072 0.98367072 0.98365415        nan        nan        nan\n",
            " 0.98340547 0.98340547        nan        nan        nan 0.98348837\n",
            " 0.9836044  0.9836044  0.9836044         nan        nan        nan\n",
            " 0.9838365  0.9838365         nan        nan        nan 0.9838365\n",
            " 0.98370387 0.98370387 0.98370387        nan        nan        nan\n",
            " 0.98340547 0.98340547        nan        nan        nan 0.98348837\n",
            " 0.98365414 0.98365414 0.98365414        nan        nan        nan\n",
            " 0.9838365  0.9838365         nan        nan        nan 0.9838365\n",
            " 0.98370387 0.98370387 0.98370387        nan        nan        nan\n",
            " 0.98340547 0.98340547        nan        nan        nan 0.98347178\n",
            " 0.98365415 0.98365415 0.98365415        nan        nan        nan\n",
            " 0.9838365  0.9838365         nan        nan        nan 0.9838365\n",
            " 0.98372045 0.98372045 0.98370387        nan        nan        nan\n",
            " 0.98340547 0.98340547        nan        nan        nan 0.98345521\n",
            " 0.98365415 0.98365415 0.98365415        nan        nan        nan]\n",
            "  category=UserWarning,\n",
            "/usr/local/lib/python3.7/dist-packages/sklearn/linear_model/_logistic.py:1484: UserWarning: Setting penalty='none' will ignore the C and l1_ratio parameters\n",
            "  \"Setting penalty='none' will ignore the C and l1_ratio parameters\"\n"
          ]
        },
        {
          "output_type": "stream",
          "name": "stdout",
          "text": [
            "Best Score: 0.9838365028825705\n",
            "Best Hyperparameters: {'C': 0.001, 'fit_intercept': True, 'penalty': 'none', 'solver': 'newton-cg'}\n"
          ]
        }
      ]
    },
    {
      "cell_type": "code",
      "source": [
        "model_lr=LogisticRegression(C= 0.001, fit_intercept=True, penalty='none', solver='newton-cg')\n",
        "model_lr.fit(X_train, y_train)\n",
        "pred_lr= search.predict(X_test)\n",
        "\n",
        "# Evaluate\n",
        "print(f'Accuracy = {accuracy_score(y_test, pred_lr):.2f}\\nRecall = {recall_score(y_test, pred_lr):.2f}\\n')\n",
        "cm = confusion_matrix(y_test, pred_lr)\n",
        "plt.figure(figsize=(8, 6))\n",
        "plt.title('Confusion Matrix (without SMOTE)', size=16)\n",
        "sns.heatmap(cm, annot=True, cmap='Blues');"
      ],
      "metadata": {
        "colab": {
          "base_uri": "https://localhost:8080/",
          "height": 499
        },
        "id": "zhLC1PBmajxj",
        "outputId": "1b9a2d40-c32c-4c96-d754-7fcbd21ffaa2"
      },
      "execution_count": null,
      "outputs": [
        {
          "output_type": "stream",
          "name": "stderr",
          "text": [
            "/usr/local/lib/python3.7/dist-packages/sklearn/linear_model/_logistic.py:1484: UserWarning: Setting penalty='none' will ignore the C and l1_ratio parameters\n",
            "  \"Setting penalty='none' will ignore the C and l1_ratio parameters\"\n"
          ]
        },
        {
          "output_type": "stream",
          "name": "stdout",
          "text": [
            "Accuracy = 0.98\n",
            "Recall = 0.02\n",
            "\n"
          ]
        },
        {
          "output_type": "display_data",
          "data": {
            "image/png": "[encoded data removed]",
            "text/plain": [
              "<Figure size 576x432 with 2 Axes>"
            ]
          },
          "metadata": {
            "needs_background": "light"
          }
        }
      ]
    },
    {
      "cell_type": "markdown",
      "source": [
        "**Le modèle de régression logistique est précis à 98 %**, alors où est le problème ? Oui, il peut classer correctement presque toutes les transactions authentiques. Mais il a également **classé 98% des transactions frauduleuses comme authentiques**. En un mot, le modèle est inutilisable. Le déséquilibre des classes a tué sa performance. **SMOTE** peut nous aider."
      ],
      "metadata": {
        "id": "rDTM3fFP2hp1"
      }
    },
    {
      "cell_type": "code",
      "source": [
        "from imblearn.over_sampling import SMOTE \n",
        "\n",
        "sm = SMOTE(random_state=42)\n",
        "\n",
        "X_sm, y_sm = sm.fit_resample(X, y)\n",
        "\n",
        "print(f'''Shape of X before SMOTE: {X.shape}\n",
        "Shape of X after SMOTE: {X_sm.shape}''')\n",
        "\n",
        "print('\\nBalance of positive and negative classes (%):')\n",
        "y_sm.value_counts(normalize=True) * 100"
      ],
      "metadata": {
        "colab": {
          "base_uri": "https://localhost:8080/"
        },
        "id": "kkZRo925511e",
        "outputId": "18de1c7c-25b1-4234-d39d-2ae2441d821c"
      },
      "execution_count": null,
      "outputs": [
        {
          "output_type": "stream",
          "name": "stdout",
          "text": [
            "Shape of X before SMOTE: (25134, 20)\n",
            "Shape of X after SMOTE: (49424, 20)\n",
            "\n",
            "Balance of positive and negative classes (%):\n"
          ]
        },
        {
          "output_type": "execute_result",
          "data": {
            "text/plain": [
              "1    50.0\n",
              "0    50.0\n",
              "Name: TARGET, dtype: float64"
            ]
          },
          "metadata": {},
          "execution_count": 67
        }
      ]
    },
    {
      "cell_type": "code",
      "source": [
        "X_train_s, X_test_s, y_train_s, y_test_s = train_test_split(\n",
        "    X_sm, y_sm, test_size=0.2, random_state=42\n",
        ")\n",
        "model_lr_s=LogisticRegression(C= 0.001, fit_intercept=False, penalty='none', solver='newton-cg')\n",
        "model_lr_s.fit(X_train_s, y_train_s)\n",
        "pred_s= model_lr_s.predict(X_test_s)\n",
        "\n",
        "# Evaluate\n",
        "print(f'Accuracy = {accuracy_score(y_test_s, pred_s):.2f}\\nRecall = {recall_score(y_test_s, pred_s):.2f}\\n')\n",
        "cm = confusion_matrix(y_test_s, pred_s)\n",
        "plt.figure(figsize=(8, 6))\n",
        "plt.title('Confusion Matrix (with SMOTE)', size=16)\n",
        "sns.heatmap(cm, annot=True, cmap='Blues')"
      ],
      "metadata": {
        "colab": {
          "base_uri": "https://localhost:8080/",
          "height": 516
        },
        "id": "sfBpdLlgdRaw",
        "outputId": "409e4ebb-40b3-4916-b3f2-d52d07095cae"
      },
      "execution_count": null,
      "outputs": [
        {
          "output_type": "stream",
          "name": "stderr",
          "text": [
            "/usr/local/lib/python3.7/dist-packages/sklearn/linear_model/_logistic.py:1484: UserWarning: Setting penalty='none' will ignore the C and l1_ratio parameters\n",
            "  \"Setting penalty='none' will ignore the C and l1_ratio parameters\"\n"
          ]
        },
        {
          "output_type": "stream",
          "name": "stdout",
          "text": [
            "Accuracy = 0.65\n",
            "Recall = 0.66\n",
            "\n"
          ]
        },
        {
          "output_type": "execute_result",
          "data": {
            "text/plain": [
              "<matplotlib.axes._subplots.AxesSubplot at 0x7f69411999d0>"
            ]
          },
          "metadata": {},
          "execution_count": 68
        },
        {
          "output_type": "display_data",
          "data": {
            "image/png": "[encoded data removed]",
            "text/plain": [
              "<Figure size 576x432 with 2 Axes>"
            ]
          },
          "metadata": {
            "needs_background": "light"
          }
        }
      ]
    },
    {
      "cell_type": "markdown",
      "source": [
        "On constate qu'après le smote la précision du modèle 1 a diminué mais son **Rappel est passé de 2% à 66%**."
      ],
      "metadata": {
        "id": "6KFKnutKIj58"
      }
    },
    {
      "cell_type": "markdown",
      "source": [
        "**FORETS** **ALEATOIRES**"
      ],
      "metadata": {
        "id": "d5iuoQZ46JSO"
      }
    },
    {
      "cell_type": "markdown",
      "source": [
        "\n",
        "\n",
        "*   **n_estimators** = nombre d'arbres dans la forêt\n",
        "*   **max_features** = nombre maximum d'entités prises en compte pour diviser un nœud\n",
        "\n",
        "*   **max_depth**= nombre maximum de niveaux dans chaque arbre de décision\n",
        "\n",
        "\n",
        "\n",
        "\n",
        "\n",
        "\n",
        "\n",
        "\n"
      ],
      "metadata": {
        "id": "VpboaH1FDyd-"
      }
    },
    {
      "cell_type": "code",
      "source": [
        "from sklearn.ensemble import RandomForestClassifier\n",
        "from sklearn.metrics import accuracy_score, recall_score, confusion_matrix\n",
        "\n",
        "rfc=RandomForestClassifier(random_state=42)\n",
        "param_grid = { \n",
        "    'n_estimators': [200, 500],\n",
        "    'max_features': ['auto', 'sqrt', 'log2'],\n",
        "    'max_depth' : [4,5,6,7,8],\n",
        "    'criterion' :['gini', 'entropy']\n",
        "}\n",
        "CV_rfc = GridSearchCV(estimator=rfc, param_grid=param_grid, cv= 5)\n",
        "CV_rfc.fit(X_train, y_train)\n",
        "CV_rfc.best_params_\n",
        "CV_rfc.best_estimator_"
      ],
      "metadata": {
        "id": "ol1A8c7PeX_-",
        "colab": {
          "base_uri": "https://localhost:8080/"
        },
        "outputId": "daf9b150-fc40-4dad-8c64-0abd60639bdb"
      },
      "execution_count": null,
      "outputs": [
        {
          "output_type": "execute_result",
          "data": {
            "text/plain": [
              "RandomForestClassifier(max_depth=5, n_estimators=200, random_state=42)"
            ]
          },
          "metadata": {},
          "execution_count": 69
        }
      ]
    },
    {
      "cell_type": "code",
      "source": [
        "model2 = RandomForestClassifier(max_depth=5, n_estimators=200, random_state=42)\n",
        "model2.fit(X_train, y_train)\n",
        "pred= model2.predict(X_test)\n",
        "\n",
        "# Evaluate\n",
        "print(f'Accuracy = {accuracy_score(y_test, pred):.2f}\\nRecall = {recall_score(y_test, pred):.2f}\\n')\n",
        "cm = confusion_matrix(y_test, pred)\n",
        "plt.figure(figsize=(8, 6))\n",
        "plt.title('Confusion Matrix (without SMOTE)', size=16)\n",
        "sns.heatmap(cm, annot=True, cmap='Blues');"
      ],
      "metadata": {
        "colab": {
          "base_uri": "https://localhost:8080/",
          "height": 444
        },
        "id": "hgAKBpJYUr9M",
        "outputId": "d7c71502-e9eb-46a0-c31b-eeca56e64aec"
      },
      "execution_count": null,
      "outputs": [
        {
          "output_type": "stream",
          "name": "stdout",
          "text": [
            "Accuracy = 0.98\n",
            "Recall = 0.02\n",
            "\n"
          ]
        },
        {
          "output_type": "display_data",
          "data": {
            "image/png": "[encoded data removed]",
            "text/plain": [
              "<Figure size 576x432 with 2 Axes>"
            ]
          },
          "metadata": {
            "needs_background": "light"
          }
        }
      ]
    },
    {
      "cell_type": "markdown",
      "source": [
        "Le modèle 2 est précis à **98 %**. Mais il a également classé **98%** des transactions frauduleuses comme authentiques. Ainsi, le modèle 2 n'est pas performant."
      ],
      "metadata": {
        "id": "NjuoaKymQInA"
      }
    },
    {
      "cell_type": "code",
      "source": [
        "model2_s = RandomForestClassifier(random_state=42)\n",
        "model2_s.fit(X_train_s, y_train_s)\n",
        "pred2_s = model2_s.predict(X_test_s)\n",
        "\n",
        "print(f'Accuracy = {accuracy_score(y_test_s, pred2_s):.2f}\\nRecall = {recall_score(y_test_s, pred2_s):.2f}\\n')\n",
        "cm = confusion_matrix(y_test_s, pred2_s)\n",
        "plt.figure(figsize=(8, 6))\n",
        "plt.title('Confusion Matrix (with SMOTE)', size=16)\n",
        "sns.heatmap(cm, annot=True, cmap='Blues');"
      ],
      "metadata": {
        "colab": {
          "base_uri": "https://localhost:8080/",
          "height": 444
        },
        "id": "rDVWRV7L6W9K",
        "outputId": "0c6378ad-16df-4c2a-b93e-a0ce13d71e90"
      },
      "execution_count": null,
      "outputs": [
        {
          "output_type": "stream",
          "name": "stdout",
          "text": [
            "Accuracy = 0.99\n",
            "Recall = 0.99\n",
            "\n"
          ]
        },
        {
          "output_type": "display_data",
          "data": {
            "image/png": "[encoded data removed]",
            "text/plain": [
              "<Figure size 576x432 with 2 Axes>"
            ]
          },
          "metadata": {
            "needs_background": "light"
          }
        }
      ]
    },
    {
      "cell_type": "markdown",
      "source": [
        "Le Random forest résultant du smote est très performant. SMOTE a fait son travail, et il en a résulté un modèle qui a nettement surpassé sa version précédente.\n",
        "**Un modèle presque parfait.**"
      ],
      "metadata": {
        "id": "D3-k8g45JSun"
      }
    },
    {
      "cell_type": "markdown",
      "source": [
        "**SVM**"
      ],
      "metadata": {
        "id": "7GpcskK97OhV"
      }
    },
    {
      "cell_type": "code",
      "source": [
        "from sklearn import svm\n",
        "param_grid = {'C': [0.1,1, 10, 100], 'gamma': [1,0.1,0.01,0.001],'kernel': ['rbf', 'poly', 'sigmoid','linear']}\n",
        "grid = GridSearchCV(svm.SVC(),param_grid,refit=True,verbose=2)\n",
        "grid.fit(X_train,y_train)\n",
        "# print best parameter after tuning\n",
        "print(grid.best_params_)\n",
        " \n",
        "# print how our model looks after hyper-parameter tuning\n",
        "print(grid.best_estimator_)"
      ],
      "metadata": {
        "id": "k1Vk3b0Fe8NT",
        "colab": {
          "base_uri": "https://localhost:8080/"
        },
        "outputId": "76482e8c-1b65-42e9-fa74-448614369748"
      },
      "execution_count": null,
      "outputs": [
        {
          "output_type": "stream",
          "name": "stdout",
          "text": [
            "Fitting 5 folds for each of 64 candidates, totalling 320 fits\n",
            "[CV] END .........................C=0.1, gamma=1, kernel=rbf; total time=   1.7s\n",
            "[CV] END .........................C=0.1, gamma=1, kernel=rbf; total time=   1.7s\n",
            "[CV] END .........................C=0.1, gamma=1, kernel=rbf; total time=   1.6s\n",
            "[CV] END .........................C=0.1, gamma=1, kernel=rbf; total time=   1.7s\n",
            "[CV] END .........................C=0.1, gamma=1, kernel=rbf; total time=   1.7s\n",
            "[CV] END ........................C=0.1, gamma=1, kernel=poly; total time=   5.5s\n",
            "[CV] END ........................C=0.1, gamma=1, kernel=poly; total time=   5.9s\n",
            "[CV] END ........................C=0.1, gamma=1, kernel=poly; total time=   6.5s\n",
            "[CV] END ........................C=0.1, gamma=1, kernel=poly; total time=   5.9s\n",
            "[CV] END ........................C=0.1, gamma=1, kernel=poly; total time=   5.8s\n",
            "[CV] END .....................C=0.1, gamma=1, kernel=sigmoid; total time=   0.9s\n",
            "[CV] END .....................C=0.1, gamma=1, kernel=sigmoid; total time=   1.3s\n",
            "[CV] END .....................C=0.1, gamma=1, kernel=sigmoid; total time=   1.3s\n",
            "[CV] END .....................C=0.1, gamma=1, kernel=sigmoid; total time=   1.3s\n",
            "[CV] END .....................C=0.1, gamma=1, kernel=sigmoid; total time=   0.9s\n",
            "[CV] END ......................C=0.1, gamma=1, kernel=linear; total time=   0.3s\n",
            "[CV] END ......................C=0.1, gamma=1, kernel=linear; total time=   0.3s\n",
            "[CV] END ......................C=0.1, gamma=1, kernel=linear; total time=   0.3s\n",
            "[CV] END ......................C=0.1, gamma=1, kernel=linear; total time=   0.3s\n",
            "[CV] END ......................C=0.1, gamma=1, kernel=linear; total time=   0.3s\n",
            "[CV] END .......................C=0.1, gamma=0.1, kernel=rbf; total time=   0.9s\n",
            "[CV] END .......................C=0.1, gamma=0.1, kernel=rbf; total time=   0.9s\n",
            "[CV] END .......................C=0.1, gamma=0.1, kernel=rbf; total time=   0.9s\n",
            "[CV] END .......................C=0.1, gamma=0.1, kernel=rbf; total time=   0.9s\n",
            "[CV] END .......................C=0.1, gamma=0.1, kernel=rbf; total time=   0.9s\n",
            "[CV] END ......................C=0.1, gamma=0.1, kernel=poly; total time=   0.5s\n",
            "[CV] END ......................C=0.1, gamma=0.1, kernel=poly; total time=   0.5s\n",
            "[CV] END ......................C=0.1, gamma=0.1, kernel=poly; total time=   0.5s\n",
            "[CV] END ......................C=0.1, gamma=0.1, kernel=poly; total time=   0.5s\n",
            "[CV] END ......................C=0.1, gamma=0.1, kernel=poly; total time=   0.5s\n",
            "[CV] END ...................C=0.1, gamma=0.1, kernel=sigmoid; total time=   1.0s\n",
            "[CV] END ...................C=0.1, gamma=0.1, kernel=sigmoid; total time=   1.0s\n",
            "[CV] END ...................C=0.1, gamma=0.1, kernel=sigmoid; total time=   1.1s\n",
            "[CV] END ...................C=0.1, gamma=0.1, kernel=sigmoid; total time=   1.0s\n",
            "[CV] END ...................C=0.1, gamma=0.1, kernel=sigmoid; total time=   1.1s\n",
            "[CV] END ....................C=0.1, gamma=0.1, kernel=linear; total time=   0.3s\n",
            "[CV] END ....................C=0.1, gamma=0.1, kernel=linear; total time=   0.3s\n",
            "[CV] END ....................C=0.1, gamma=0.1, kernel=linear; total time=   0.3s\n",
            "[CV] END ....................C=0.1, gamma=0.1, kernel=linear; total time=   0.3s\n",
            "[CV] END ....................C=0.1, gamma=0.1, kernel=linear; total time=   0.3s\n",
            "[CV] END ......................C=0.1, gamma=0.01, kernel=rbf; total time=   0.7s\n",
            "[CV] END ......................C=0.1, gamma=0.01, kernel=rbf; total time=   0.7s\n",
            "[CV] END ......................C=0.1, gamma=0.01, kernel=rbf; total time=   0.7s\n",
            "[CV] END ......................C=0.1, gamma=0.01, kernel=rbf; total time=   0.7s\n",
            "[CV] END ......................C=0.1, gamma=0.01, kernel=rbf; total time=   0.7s\n",
            "[CV] END .....................C=0.1, gamma=0.01, kernel=poly; total time=   0.4s\n",
            "[CV] END .....................C=0.1, gamma=0.01, kernel=poly; total time=   0.4s\n",
            "[CV] END .....................C=0.1, gamma=0.01, kernel=poly; total time=   0.4s\n",
            "[CV] END .....................C=0.1, gamma=0.01, kernel=poly; total time=   0.4s\n",
            "[CV] END .....................C=0.1, gamma=0.01, kernel=poly; total time=   0.4s\n",
            "[CV] END ..................C=0.1, gamma=0.01, kernel=sigmoid; total time=   0.6s\n",
            "[CV] END ..................C=0.1, gamma=0.01, kernel=sigmoid; total time=   0.6s\n",
            "[CV] END ..................C=0.1, gamma=0.01, kernel=sigmoid; total time=   0.6s\n",
            "[CV] END ..................C=0.1, gamma=0.01, kernel=sigmoid; total time=   0.6s\n",
            "[CV] END ..................C=0.1, gamma=0.01, kernel=sigmoid; total time=   0.6s\n",
            "[CV] END ...................C=0.1, gamma=0.01, kernel=linear; total time=   0.3s\n",
            "[CV] END ...................C=0.1, gamma=0.01, kernel=linear; total time=   0.3s\n",
            "[CV] END ...................C=0.1, gamma=0.01, kernel=linear; total time=   0.3s\n",
            "[CV] END ...................C=0.1, gamma=0.01, kernel=linear; total time=   0.3s\n",
            "[CV] END ...................C=0.1, gamma=0.01, kernel=linear; total time=   0.3s\n",
            "[CV] END .....................C=0.1, gamma=0.001, kernel=rbf; total time=   0.7s\n",
            "[CV] END .....................C=0.1, gamma=0.001, kernel=rbf; total time=   0.7s\n",
            "[CV] END .....................C=0.1, gamma=0.001, kernel=rbf; total time=   0.7s\n",
            "[CV] END .....................C=0.1, gamma=0.001, kernel=rbf; total time=   0.7s\n",
            "[CV] END .....................C=0.1, gamma=0.001, kernel=rbf; total time=   0.7s\n",
            "[CV] END ....................C=0.1, gamma=0.001, kernel=poly; total time=   0.4s\n",
            "[CV] END ....................C=0.1, gamma=0.001, kernel=poly; total time=   0.4s\n",
            "[CV] END ....................C=0.1, gamma=0.001, kernel=poly; total time=   0.4s\n",
            "[CV] END ....................C=0.1, gamma=0.001, kernel=poly; total time=   0.4s\n",
            "[CV] END ....................C=0.1, gamma=0.001, kernel=poly; total time=   0.4s\n",
            "[CV] END .................C=0.1, gamma=0.001, kernel=sigmoid; total time=   0.6s\n",
            "[CV] END .................C=0.1, gamma=0.001, kernel=sigmoid; total time=   0.6s\n",
            "[CV] END .................C=0.1, gamma=0.001, kernel=sigmoid; total time=   0.6s\n",
            "[CV] END .................C=0.1, gamma=0.001, kernel=sigmoid; total time=   0.6s\n",
            "[CV] END .................C=0.1, gamma=0.001, kernel=sigmoid; total time=   0.6s\n",
            "[CV] END ..................C=0.1, gamma=0.001, kernel=linear; total time=   0.3s\n",
            "[CV] END ..................C=0.1, gamma=0.001, kernel=linear; total time=   0.3s\n",
            "[CV] END ..................C=0.1, gamma=0.001, kernel=linear; total time=   0.3s\n",
            "[CV] END ..................C=0.1, gamma=0.001, kernel=linear; total time=   0.3s\n",
            "[CV] END ..................C=0.1, gamma=0.001, kernel=linear; total time=   0.3s\n",
            "[CV] END ...........................C=1, gamma=1, kernel=rbf; total time=   3.7s\n",
            "[CV] END ...........................C=1, gamma=1, kernel=rbf; total time=   3.1s\n",
            "[CV] END ...........................C=1, gamma=1, kernel=rbf; total time=   3.1s\n",
            "[CV] END ...........................C=1, gamma=1, kernel=rbf; total time=   3.1s\n",
            "[CV] END ...........................C=1, gamma=1, kernel=rbf; total time=   3.1s\n",
            "[CV] END ..........................C=1, gamma=1, kernel=poly; total time=  20.4s\n",
            "[CV] END ..........................C=1, gamma=1, kernel=poly; total time=  24.6s\n",
            "[CV] END ..........................C=1, gamma=1, kernel=poly; total time=  17.5s\n",
            "[CV] END ..........................C=1, gamma=1, kernel=poly; total time=  16.6s\n",
            "[CV] END ..........................C=1, gamma=1, kernel=poly; total time=  26.1s\n",
            "[CV] END .......................C=1, gamma=1, kernel=sigmoid; total time=   0.9s\n",
            "[CV] END .......................C=1, gamma=1, kernel=sigmoid; total time=   1.3s\n",
            "[CV] END .......................C=1, gamma=1, kernel=sigmoid; total time=   1.3s\n",
            "[CV] END .......................C=1, gamma=1, kernel=sigmoid; total time=   1.3s\n",
            "[CV] END .......................C=1, gamma=1, kernel=sigmoid; total time=   0.9s\n",
            "[CV] END ........................C=1, gamma=1, kernel=linear; total time=   0.3s\n",
            "[CV] END ........................C=1, gamma=1, kernel=linear; total time=   0.4s\n",
            "[CV] END ........................C=1, gamma=1, kernel=linear; total time=   0.3s\n",
            "[CV] END ........................C=1, gamma=1, kernel=linear; total time=   0.3s\n",
            "[CV] END ........................C=1, gamma=1, kernel=linear; total time=   0.3s\n",
            "[CV] END .........................C=1, gamma=0.1, kernel=rbf; total time=   1.9s\n",
            "[CV] END .........................C=1, gamma=0.1, kernel=rbf; total time=   1.9s\n",
            "[CV] END .........................C=1, gamma=0.1, kernel=rbf; total time=   1.8s\n",
            "[CV] END .........................C=1, gamma=0.1, kernel=rbf; total time=   1.8s\n",
            "[CV] END .........................C=1, gamma=0.1, kernel=rbf; total time=   1.8s\n",
            "[CV] END ........................C=1, gamma=0.1, kernel=poly; total time=   0.9s\n",
            "[CV] END ........................C=1, gamma=0.1, kernel=poly; total time=   0.9s\n",
            "[CV] END ........................C=1, gamma=0.1, kernel=poly; total time=   0.9s\n",
            "[CV] END ........................C=1, gamma=0.1, kernel=poly; total time=   0.9s\n",
            "[CV] END ........................C=1, gamma=0.1, kernel=poly; total time=   0.9s\n",
            "[CV] END .....................C=1, gamma=0.1, kernel=sigmoid; total time=   1.0s\n",
            "[CV] END .....................C=1, gamma=0.1, kernel=sigmoid; total time=   1.1s\n",
            "[CV] END .....................C=1, gamma=0.1, kernel=sigmoid; total time=   1.1s\n",
            "[CV] END .....................C=1, gamma=0.1, kernel=sigmoid; total time=   1.1s\n",
            "[CV] END .....................C=1, gamma=0.1, kernel=sigmoid; total time=   1.1s\n",
            "[CV] END ......................C=1, gamma=0.1, kernel=linear; total time=   0.3s\n",
            "[CV] END ......................C=1, gamma=0.1, kernel=linear; total time=   0.3s\n",
            "[CV] END ......................C=1, gamma=0.1, kernel=linear; total time=   0.3s\n",
            "[CV] END ......................C=1, gamma=0.1, kernel=linear; total time=   0.3s\n",
            "[CV] END ......................C=1, gamma=0.1, kernel=linear; total time=   0.3s\n",
            "[CV] END ........................C=1, gamma=0.01, kernel=rbf; total time=   1.2s\n",
            "[CV] END ........................C=1, gamma=0.01, kernel=rbf; total time=   1.2s\n",
            "[CV] END ........................C=1, gamma=0.01, kernel=rbf; total time=   1.4s\n",
            "[CV] END ........................C=1, gamma=0.01, kernel=rbf; total time=   1.3s\n",
            "[CV] END ........................C=1, gamma=0.01, kernel=rbf; total time=   1.2s\n",
            "[CV] END .......................C=1, gamma=0.01, kernel=poly; total time=   0.4s\n",
            "[CV] END .......................C=1, gamma=0.01, kernel=poly; total time=   0.4s\n",
            "[CV] END .......................C=1, gamma=0.01, kernel=poly; total time=   0.4s\n",
            "[CV] END .......................C=1, gamma=0.01, kernel=poly; total time=   0.4s\n",
            "[CV] END .......................C=1, gamma=0.01, kernel=poly; total time=   0.4s\n",
            "[CV] END ....................C=1, gamma=0.01, kernel=sigmoid; total time=   0.6s\n",
            "[CV] END ....................C=1, gamma=0.01, kernel=sigmoid; total time=   0.6s\n",
            "[CV] END ....................C=1, gamma=0.01, kernel=sigmoid; total time=   0.7s\n",
            "[CV] END ....................C=1, gamma=0.01, kernel=sigmoid; total time=   0.7s\n",
            "[CV] END ....................C=1, gamma=0.01, kernel=sigmoid; total time=   0.6s\n",
            "[CV] END .....................C=1, gamma=0.01, kernel=linear; total time=   0.3s\n",
            "[CV] END .....................C=1, gamma=0.01, kernel=linear; total time=   0.3s\n",
            "[CV] END .....................C=1, gamma=0.01, kernel=linear; total time=   0.4s\n",
            "[CV] END .....................C=1, gamma=0.01, kernel=linear; total time=   0.4s\n",
            "[CV] END .....................C=1, gamma=0.01, kernel=linear; total time=   0.3s\n",
            "[CV] END .......................C=1, gamma=0.001, kernel=rbf; total time=   0.7s\n",
            "[CV] END .......................C=1, gamma=0.001, kernel=rbf; total time=   0.7s\n",
            "[CV] END .......................C=1, gamma=0.001, kernel=rbf; total time=   0.7s\n",
            "[CV] END .......................C=1, gamma=0.001, kernel=rbf; total time=   0.7s\n",
            "[CV] END .......................C=1, gamma=0.001, kernel=rbf; total time=   0.7s\n",
            "[CV] END ......................C=1, gamma=0.001, kernel=poly; total time=   0.4s\n",
            "[CV] END ......................C=1, gamma=0.001, kernel=poly; total time=   0.4s\n",
            "[CV] END ......................C=1, gamma=0.001, kernel=poly; total time=   0.4s\n",
            "[CV] END ......................C=1, gamma=0.001, kernel=poly; total time=   0.4s\n",
            "[CV] END ......................C=1, gamma=0.001, kernel=poly; total time=   0.4s\n",
            "[CV] END ...................C=1, gamma=0.001, kernel=sigmoid; total time=   0.6s\n",
            "[CV] END ...................C=1, gamma=0.001, kernel=sigmoid; total time=   0.6s\n",
            "[CV] END ...................C=1, gamma=0.001, kernel=sigmoid; total time=   0.6s\n",
            "[CV] END ...................C=1, gamma=0.001, kernel=sigmoid; total time=   0.6s\n",
            "[CV] END ...................C=1, gamma=0.001, kernel=sigmoid; total time=   0.6s\n",
            "[CV] END ....................C=1, gamma=0.001, kernel=linear; total time=   0.3s\n",
            "[CV] END ....................C=1, gamma=0.001, kernel=linear; total time=   0.3s\n",
            "[CV] END ....................C=1, gamma=0.001, kernel=linear; total time=   0.3s\n",
            "[CV] END ....................C=1, gamma=0.001, kernel=linear; total time=   0.4s\n",
            "[CV] END ....................C=1, gamma=0.001, kernel=linear; total time=   0.3s\n",
            "[CV] END ..........................C=10, gamma=1, kernel=rbf; total time=   4.0s\n",
            "[CV] END ..........................C=10, gamma=1, kernel=rbf; total time=   4.4s\n",
            "[CV] END ..........................C=10, gamma=1, kernel=rbf; total time=   4.2s\n",
            "[CV] END ..........................C=10, gamma=1, kernel=rbf; total time=   4.0s\n",
            "[CV] END ..........................C=10, gamma=1, kernel=rbf; total time=   4.1s\n",
            "[CV] END .........................C=10, gamma=1, kernel=poly; total time= 1.5min\n",
            "[CV] END .........................C=10, gamma=1, kernel=poly; total time= 1.5min\n",
            "[CV] END .........................C=10, gamma=1, kernel=poly; total time= 2.0min\n",
            "[CV] END .........................C=10, gamma=1, kernel=poly; total time= 1.0min\n",
            "[CV] END .........................C=10, gamma=1, kernel=poly; total time= 2.2min\n",
            "[CV] END ......................C=10, gamma=1, kernel=sigmoid; total time=   0.9s\n",
            "[CV] END ......................C=10, gamma=1, kernel=sigmoid; total time=   1.3s\n",
            "[CV] END ......................C=10, gamma=1, kernel=sigmoid; total time=   1.3s\n",
            "[CV] END ......................C=10, gamma=1, kernel=sigmoid; total time=   1.4s\n",
            "[CV] END ......................C=10, gamma=1, kernel=sigmoid; total time=   0.9s\n",
            "[CV] END .......................C=10, gamma=1, kernel=linear; total time=   0.5s\n",
            "[CV] END .......................C=10, gamma=1, kernel=linear; total time=   0.5s\n",
            "[CV] END .......................C=10, gamma=1, kernel=linear; total time=   0.4s\n",
            "[CV] END .......................C=10, gamma=1, kernel=linear; total time=   0.5s\n",
            "[CV] END .......................C=10, gamma=1, kernel=linear; total time=   0.4s\n",
            "[CV] END ........................C=10, gamma=0.1, kernel=rbf; total time=   4.4s\n",
            "[CV] END ........................C=10, gamma=0.1, kernel=rbf; total time=   4.5s\n",
            "[CV] END ........................C=10, gamma=0.1, kernel=rbf; total time=   4.3s\n",
            "[CV] END ........................C=10, gamma=0.1, kernel=rbf; total time=   4.6s\n",
            "[CV] END ........................C=10, gamma=0.1, kernel=rbf; total time=   5.0s\n",
            "[CV] END .......................C=10, gamma=0.1, kernel=poly; total time=   2.0s\n",
            "[CV] END .......................C=10, gamma=0.1, kernel=poly; total time=   2.0s\n",
            "[CV] END .......................C=10, gamma=0.1, kernel=poly; total time=   2.2s\n",
            "[CV] END .......................C=10, gamma=0.1, kernel=poly; total time=   2.0s\n",
            "[CV] END .......................C=10, gamma=0.1, kernel=poly; total time=   2.1s\n",
            "[CV] END ....................C=10, gamma=0.1, kernel=sigmoid; total time=   0.9s\n",
            "[CV] END ....................C=10, gamma=0.1, kernel=sigmoid; total time=   1.2s\n",
            "[CV] END ....................C=10, gamma=0.1, kernel=sigmoid; total time=   0.9s\n",
            "[CV] END ....................C=10, gamma=0.1, kernel=sigmoid; total time=   0.9s\n",
            "[CV] END ....................C=10, gamma=0.1, kernel=sigmoid; total time=   0.9s\n",
            "[CV] END .....................C=10, gamma=0.1, kernel=linear; total time=   0.5s\n",
            "[CV] END .....................C=10, gamma=0.1, kernel=linear; total time=   0.4s\n",
            "[CV] END .....................C=10, gamma=0.1, kernel=linear; total time=   0.4s\n",
            "[CV] END .....................C=10, gamma=0.1, kernel=linear; total time=   0.5s\n",
            "[CV] END .....................C=10, gamma=0.1, kernel=linear; total time=   0.4s\n",
            "[CV] END .......................C=10, gamma=0.01, kernel=rbf; total time=   2.3s\n",
            "[CV] END .......................C=10, gamma=0.01, kernel=rbf; total time=   2.7s\n",
            "[CV] END .......................C=10, gamma=0.01, kernel=rbf; total time=   2.8s\n",
            "[CV] END .......................C=10, gamma=0.01, kernel=rbf; total time=   2.6s\n",
            "[CV] END .......................C=10, gamma=0.01, kernel=rbf; total time=   2.5s\n",
            "[CV] END ......................C=10, gamma=0.01, kernel=poly; total time=   0.4s\n",
            "[CV] END ......................C=10, gamma=0.01, kernel=poly; total time=   0.4s\n",
            "[CV] END ......................C=10, gamma=0.01, kernel=poly; total time=   0.4s\n",
            "[CV] END ......................C=10, gamma=0.01, kernel=poly; total time=   0.4s\n",
            "[CV] END ......................C=10, gamma=0.01, kernel=poly; total time=   0.4s\n",
            "[CV] END ...................C=10, gamma=0.01, kernel=sigmoid; total time=   1.6s\n",
            "[CV] END ...................C=10, gamma=0.01, kernel=sigmoid; total time=   1.7s\n",
            "[CV] END ...................C=10, gamma=0.01, kernel=sigmoid; total time=   1.9s\n",
            "[CV] END ...................C=10, gamma=0.01, kernel=sigmoid; total time=   1.5s\n",
            "[CV] END ...................C=10, gamma=0.01, kernel=sigmoid; total time=   2.2s\n",
            "[CV] END ....................C=10, gamma=0.01, kernel=linear; total time=   0.4s\n",
            "[CV] END ....................C=10, gamma=0.01, kernel=linear; total time=   0.4s\n",
            "[CV] END ....................C=10, gamma=0.01, kernel=linear; total time=   0.4s\n",
            "[CV] END ....................C=10, gamma=0.01, kernel=linear; total time=   0.5s\n",
            "[CV] END ....................C=10, gamma=0.01, kernel=linear; total time=   0.4s\n",
            "[CV] END ......................C=10, gamma=0.001, kernel=rbf; total time=   1.0s\n",
            "[CV] END ......................C=10, gamma=0.001, kernel=rbf; total time=   1.0s\n",
            "[CV] END ......................C=10, gamma=0.001, kernel=rbf; total time=   1.1s\n",
            "[CV] END ......................C=10, gamma=0.001, kernel=rbf; total time=   1.0s\n",
            "[CV] END ......................C=10, gamma=0.001, kernel=rbf; total time=   1.0s\n",
            "[CV] END .....................C=10, gamma=0.001, kernel=poly; total time=   0.4s\n",
            "[CV] END .....................C=10, gamma=0.001, kernel=poly; total time=   0.4s\n",
            "[CV] END .....................C=10, gamma=0.001, kernel=poly; total time=   0.4s\n",
            "[CV] END .....................C=10, gamma=0.001, kernel=poly; total time=   0.4s\n",
            "[CV] END .....................C=10, gamma=0.001, kernel=poly; total time=   0.4s\n",
            "[CV] END ..................C=10, gamma=0.001, kernel=sigmoid; total time=   0.6s\n",
            "[CV] END ..................C=10, gamma=0.001, kernel=sigmoid; total time=   0.6s\n",
            "[CV] END ..................C=10, gamma=0.001, kernel=sigmoid; total time=   0.6s\n",
            "[CV] END ..................C=10, gamma=0.001, kernel=sigmoid; total time=   0.6s\n",
            "[CV] END ..................C=10, gamma=0.001, kernel=sigmoid; total time=   0.7s\n",
            "[CV] END ...................C=10, gamma=0.001, kernel=linear; total time=   0.4s\n",
            "[CV] END ...................C=10, gamma=0.001, kernel=linear; total time=   0.5s\n",
            "[CV] END ...................C=10, gamma=0.001, kernel=linear; total time=   0.4s\n",
            "[CV] END ...................C=10, gamma=0.001, kernel=linear; total time=   0.4s\n",
            "[CV] END ...................C=10, gamma=0.001, kernel=linear; total time=   0.4s\n",
            "[CV] END .........................C=100, gamma=1, kernel=rbf; total time=   5.5s\n",
            "[CV] END .........................C=100, gamma=1, kernel=rbf; total time=   6.1s\n",
            "[CV] END .........................C=100, gamma=1, kernel=rbf; total time=   6.2s\n",
            "[CV] END .........................C=100, gamma=1, kernel=rbf; total time=   5.9s\n",
            "[CV] END .........................C=100, gamma=1, kernel=rbf; total time=   6.0s\n",
            "[CV] END ........................C=100, gamma=1, kernel=poly; total time= 9.2min\n",
            "[CV] END ........................C=100, gamma=1, kernel=poly; total time= 9.1min\n",
            "[CV] END ........................C=100, gamma=1, kernel=poly; total time= 9.9min\n",
            "[CV] END ........................C=100, gamma=1, kernel=poly; total time= 5.9min\n",
            "[CV] END ........................C=100, gamma=1, kernel=poly; total time= 8.4min\n",
            "[CV] END .....................C=100, gamma=1, kernel=sigmoid; total time=   0.9s\n",
            "[CV] END .....................C=100, gamma=1, kernel=sigmoid; total time=   1.3s\n",
            "[CV] END .....................C=100, gamma=1, kernel=sigmoid; total time=   0.9s\n",
            "[CV] END .....................C=100, gamma=1, kernel=sigmoid; total time=   1.4s\n",
            "[CV] END .....................C=100, gamma=1, kernel=sigmoid; total time=   0.9s\n",
            "[CV] END ......................C=100, gamma=1, kernel=linear; total time=  33.4s\n",
            "[CV] END ......................C=100, gamma=1, kernel=linear; total time=  43.4s\n",
            "[CV] END ......................C=100, gamma=1, kernel=linear; total time=  38.7s\n",
            "[CV] END ......................C=100, gamma=1, kernel=linear; total time=  23.1s\n",
            "[CV] END ......................C=100, gamma=1, kernel=linear; total time=  42.2s\n",
            "[CV] END .......................C=100, gamma=0.1, kernel=rbf; total time=  12.4s\n",
            "[CV] END .......................C=100, gamma=0.1, kernel=rbf; total time=  11.7s\n",
            "[CV] END .......................C=100, gamma=0.1, kernel=rbf; total time=  11.6s\n",
            "[CV] END .......................C=100, gamma=0.1, kernel=rbf; total time=  10.6s\n",
            "[CV] END .......................C=100, gamma=0.1, kernel=rbf; total time=  12.6s\n",
            "[CV] END ......................C=100, gamma=0.1, kernel=poly; total time=   5.2s\n",
            "[CV] END ......................C=100, gamma=0.1, kernel=poly; total time=   5.6s\n",
            "[CV] END ......................C=100, gamma=0.1, kernel=poly; total time=   6.2s\n",
            "[CV] END ......................C=100, gamma=0.1, kernel=poly; total time=   5.8s\n",
            "[CV] END ......................C=100, gamma=0.1, kernel=poly; total time=   5.7s\n",
            "[CV] END ...................C=100, gamma=0.1, kernel=sigmoid; total time=   0.9s\n",
            "[CV] END ...................C=100, gamma=0.1, kernel=sigmoid; total time=   1.0s\n",
            "[CV] END ...................C=100, gamma=0.1, kernel=sigmoid; total time=   0.8s\n",
            "[CV] END ...................C=100, gamma=0.1, kernel=sigmoid; total time=   1.0s\n",
            "[CV] END ...................C=100, gamma=0.1, kernel=sigmoid; total time=   1.0s\n",
            "[CV] END ....................C=100, gamma=0.1, kernel=linear; total time=  33.5s\n",
            "[CV] END ....................C=100, gamma=0.1, kernel=linear; total time=  43.4s\n",
            "[CV] END ....................C=100, gamma=0.1, kernel=linear; total time=  38.8s\n",
            "[CV] END ....................C=100, gamma=0.1, kernel=linear; total time=  23.2s\n",
            "[CV] END ....................C=100, gamma=0.1, kernel=linear; total time=  42.3s\n",
            "[CV] END ......................C=100, gamma=0.01, kernel=rbf; total time=   5.8s\n",
            "[CV] END ......................C=100, gamma=0.01, kernel=rbf; total time=   6.1s\n",
            "[CV] END ......................C=100, gamma=0.01, kernel=rbf; total time=   6.2s\n",
            "[CV] END ......................C=100, gamma=0.01, kernel=rbf; total time=   5.9s\n",
            "[CV] END ......................C=100, gamma=0.01, kernel=rbf; total time=   6.7s\n",
            "[CV] END .....................C=100, gamma=0.01, kernel=poly; total time=   0.5s\n",
            "[CV] END .....................C=100, gamma=0.01, kernel=poly; total time=   0.5s\n",
            "[CV] END .....................C=100, gamma=0.01, kernel=poly; total time=   0.5s\n",
            "[CV] END .....................C=100, gamma=0.01, kernel=poly; total time=   0.5s\n",
            "[CV] END .....................C=100, gamma=0.01, kernel=poly; total time=   0.5s\n",
            "[CV] END ..................C=100, gamma=0.01, kernel=sigmoid; total time=   1.6s\n",
            "[CV] END ..................C=100, gamma=0.01, kernel=sigmoid; total time=   1.8s\n",
            "[CV] END ..................C=100, gamma=0.01, kernel=sigmoid; total time=   1.6s\n",
            "[CV] END ..................C=100, gamma=0.01, kernel=sigmoid; total time=   1.5s\n",
            "[CV] END ..................C=100, gamma=0.01, kernel=sigmoid; total time=   1.8s\n",
            "[CV] END ...................C=100, gamma=0.01, kernel=linear; total time=  33.5s\n",
            "[CV] END ...................C=100, gamma=0.01, kernel=linear; total time=  43.5s\n",
            "[CV] END ...................C=100, gamma=0.01, kernel=linear; total time=  38.8s\n",
            "[CV] END ...................C=100, gamma=0.01, kernel=linear; total time=  23.2s\n",
            "[CV] END ...................C=100, gamma=0.01, kernel=linear; total time=  42.1s\n",
            "[CV] END .....................C=100, gamma=0.001, kernel=rbf; total time=   3.6s\n",
            "[CV] END .....................C=100, gamma=0.001, kernel=rbf; total time=   4.0s\n",
            "[CV] END .....................C=100, gamma=0.001, kernel=rbf; total time=   3.7s\n",
            "[CV] END .....................C=100, gamma=0.001, kernel=rbf; total time=   3.6s\n",
            "[CV] END .....................C=100, gamma=0.001, kernel=rbf; total time=   3.5s\n",
            "[CV] END ....................C=100, gamma=0.001, kernel=poly; total time=   0.4s\n",
            "[CV] END ....................C=100, gamma=0.001, kernel=poly; total time=   0.4s\n",
            "[CV] END ....................C=100, gamma=0.001, kernel=poly; total time=   0.4s\n",
            "[CV] END ....................C=100, gamma=0.001, kernel=poly; total time=   0.4s\n",
            "[CV] END ....................C=100, gamma=0.001, kernel=poly; total time=   0.4s\n",
            "[CV] END .................C=100, gamma=0.001, kernel=sigmoid; total time=   0.7s\n",
            "[CV] END .................C=100, gamma=0.001, kernel=sigmoid; total time=   0.7s\n",
            "[CV] END .................C=100, gamma=0.001, kernel=sigmoid; total time=   0.7s\n",
            "[CV] END .................C=100, gamma=0.001, kernel=sigmoid; total time=   0.7s\n",
            "[CV] END .................C=100, gamma=0.001, kernel=sigmoid; total time=   0.7s\n",
            "[CV] END ..................C=100, gamma=0.001, kernel=linear; total time=  33.5s\n",
            "[CV] END ..................C=100, gamma=0.001, kernel=linear; total time=  43.4s\n",
            "[CV] END ..................C=100, gamma=0.001, kernel=linear; total time=  38.8s\n",
            "[CV] END ..................C=100, gamma=0.001, kernel=linear; total time=  23.1s\n",
            "[CV] END ..................C=100, gamma=0.001, kernel=linear; total time=  42.1s\n",
            "{'C': 1, 'gamma': 1, 'kernel': 'linear'}\n",
            "SVC(C=1, gamma=1, kernel='linear')\n"
          ]
        }
      ]
    },
    {
      "cell_type": "code",
      "source": [
        "grid_predictions = grid.predict(X_test)\n",
        "# Evaluate\n",
        "print(f'Accuracy = {accuracy_score(y_test, grid_predictions):.2f}\\nRecall = {recall_score(y_test, grid_predictions):.2f}\\n')\n",
        "cm = confusion_matrix(y_test, grid_predictions)\n",
        "plt.figure(figsize=(8, 6))\n",
        "plt.title('Confusion Matrix (without SMOTE)', size=16)\n",
        "sns.heatmap(cm, annot=True, cmap='Blues');"
      ],
      "metadata": {
        "id": "I3v9Iv22fZmU",
        "colab": {
          "base_uri": "https://localhost:8080/",
          "height": 444
        },
        "outputId": "7f00fbd6-e3b0-4747-c029-c0dd0b85eb20"
      },
      "execution_count": null,
      "outputs": [
        {
          "output_type": "stream",
          "name": "stdout",
          "text": [
            "Accuracy = 0.98\n",
            "Recall = 0.02\n",
            "\n"
          ]
        },
        {
          "output_type": "display_data",
          "data": {
            "image/png": "[encoded data removed]",
            "text/plain": [
              "<Figure size 576x432 with 2 Axes>"
            ]
          },
          "metadata": {
            "needs_background": "light"
          }
        }
      ]
    },
    {
      "cell_type": "code",
      "source": [
        "model3_s = svm.SVC()\n",
        "model3_s.fit(X_train_s, y_train_s)\n",
        "pred3_s = model3_s.predict(X_test_s)\n",
        "\n",
        "print(f'Accuracy = {accuracy_score(y_test_s, pred3_s):.2f}\\nRecall = {recall_score(y_test_s, pred3_s):.2f}\\n')\n",
        "cm = confusion_matrix(y_test_s, pred3_s)\n",
        "plt.figure(figsize=(8, 6))\n",
        "plt.title('Confusion Matrix (with SMOTE)', size=16)\n",
        "sns.heatmap(cm, annot=True, cmap='Blues');"
      ],
      "metadata": {
        "colab": {
          "base_uri": "https://localhost:8080/",
          "height": 444
        },
        "id": "7fUzsFLL4lkK",
        "outputId": "9548936b-e9fa-4ccd-eac8-9c8bcb6d2c49"
      },
      "execution_count": null,
      "outputs": [
        {
          "output_type": "stream",
          "name": "stdout",
          "text": [
            "Accuracy = 0.76\n",
            "Recall = 0.86\n",
            "\n"
          ]
        },
        {
          "output_type": "display_data",
          "data": {
            "image/png": "[encoded data removed]",
            "text/plain": [
              "<Figure size 576x432 with 2 Axes>"
            ]
          },
          "metadata": {
            "needs_background": "light"
          }
        }
      ]
    },
    {
      "cell_type": "markdown",
      "source": [
        "On voit qu'après le SMOTE,la précision du modèle SVM s'est dégradée tandis que son Recall a augmenté."
      ],
      "metadata": {
        "id": "OjDXGQRhJ5lK"
      }
    },
    {
      "cell_type": "markdown",
      "source": [
        "**ARBRE DE DECISION**"
      ],
      "metadata": {
        "id": "N2ls8i1gBKCy"
      }
    },
    {
      "cell_type": "code",
      "source": [
        "from sklearn.tree import DecisionTreeClassifier\n",
        "model4 = DecisionTreeClassifier()\n",
        "model4.fit(X_train, y_train)\n",
        "pred4 = model4.predict(X_test)\n",
        "\n",
        "# Evaluate\n",
        "print(f'Accuracy = {accuracy_score(y_test, pred4):.2f}\\nRecall = {recall_score(y_test, pred4):.2f}\\n')\n",
        "cm = confusion_matrix(y_test, pred4)\n",
        "plt.figure(figsize=(8, 6))\n",
        "plt.title('Confusion Matrix (without SMOTE)', size=16)\n",
        "sns.heatmap(cm, annot=True, cmap='Blues');"
      ],
      "metadata": {
        "colab": {
          "base_uri": "https://localhost:8080/",
          "height": 444
        },
        "id": "Imp_hxPWAwXj",
        "outputId": "600918a0-a982-403c-fb5d-ffe623260d70"
      },
      "execution_count": null,
      "outputs": [
        {
          "output_type": "stream",
          "name": "stdout",
          "text": [
            "Accuracy = 0.97\n",
            "Recall = 0.15\n",
            "\n"
          ]
        },
        {
          "output_type": "display_data",
          "data": {
            "image/png": "[encoded data removed]",
            "text/plain": [
              "<Figure size 576x432 with 2 Axes>"
            ]
          },
          "metadata": {
            "needs_background": "light"
          }
        }
      ]
    },
    {
      "cell_type": "code",
      "source": [
        "model4_s = DecisionTreeClassifier()\n",
        "model4_s.fit(X_train_s, y_train_s)\n",
        "pred4_s = model4_s.predict(X_test_s)\n",
        "\n",
        "print(f'Accuracy = {accuracy_score(y_test_s, pred4_s):.2f}\\nRecall = {recall_score(y_test_s, pred4_s):.2f}\\n')\n",
        "cm = confusion_matrix(y_test_s, pred4_s)\n",
        "plt.figure(figsize=(8, 6))\n",
        "plt.title('Confusion Matrix (with SMOTE)', size=16)\n",
        "sns.heatmap(cm, annot=True, cmap='Blues');"
      ],
      "metadata": {
        "colab": {
          "base_uri": "https://localhost:8080/",
          "height": 444
        },
        "id": "uCqs2I-qB-HI",
        "outputId": "559c26c7-3ee0-4cf9-f7bd-9bee807844d9"
      },
      "execution_count": null,
      "outputs": [
        {
          "output_type": "stream",
          "name": "stdout",
          "text": [
            "Accuracy = 0.97\n",
            "Recall = 0.97\n",
            "\n"
          ]
        },
        {
          "output_type": "display_data",
          "data": {
            "image/png": "[encoded data removed]",
            "text/plain": [
              "<Figure size 576x432 with 2 Axes>"
            ]
          },
          "metadata": {
            "needs_background": "light"
          }
        }
      ]
    },
    {
      "cell_type": "markdown",
      "source": [
        "L'arbre de décision conserve sa précision et augmente son rappel après le smote."
      ],
      "metadata": {
        "id": "Hp8q1j0iKO1w"
      }
    },
    {
      "cell_type": "code",
      "source": [
        "from sklearn.tree import plot_tree\n",
        "model_d=DecisionTreeClassifier(min_samples_split=30,min_samples_leaf=10,max_leaf_nodes=10,criterion='gini')\n",
        "model_d.fit(X_train_s, y_train_s)\n",
        "plt.figure(figsize=(10,10))\n",
        "plot_tree(model_d,feature_names = list(X.columns),filled=True)\n",
        "plt.show()"
      ],
      "metadata": {
        "colab": {
          "base_uri": "https://localhost:8080/",
          "height": 575
        },
        "id": "D-akxLw9CSlq",
        "outputId": "96641f8e-148e-448e-c7f8-6c9821499d78"
      },
      "execution_count": null,
      "outputs": [
        {
          "output_type": "display_data",
          "data": {
            "image/png": "[encoded data removed]",
            "text/plain": [
              "<Figure size 720x720 with 1 Axes>"
            ]
          },
          "metadata": {
            "needs_background": "light"
          }
        }
      ]
    },
    {
      "cell_type": "markdown",
      "source": [
        "Voici l'arbre de décision.\n",
        "\n",
        "\n",
        "*   L’arbre est composé de 7 feuilles\n",
        "*   Nous observons l’effectif de l’échantillon d’apprentissage(39539) sur la racine de l’arbre dont 19818 pour\"0\" et 19721 pour\"1\";\n",
        "\n",
        "\n",
        "*   Ici,\n",
        "visiblement, le bleu est dévolu à ‘’1’’, l’orange à ‘’0’’\n",
        "\n",
        "\n",
        "\n"
      ],
      "metadata": {
        "id": "7WbRaH3ZKoKH"
      }
    },
    {
      "cell_type": "markdown",
      "source": [
        "\n",
        "\n",
        "*   **min_samples_split** = nombre minimum de points de données placés dans un nœud avant que le nœud ne soit divisé\n",
        "\n",
        "*   **min_samples_leaf** = nombre minimum de points de données autorisés dans un nœud feuille\n",
        "\n"
      ],
      "metadata": {
        "id": "D8Nk3xJfFmds"
      }
    },
    {
      "cell_type": "markdown",
      "source": [
        "**Analyse discriminante**"
      ],
      "metadata": {
        "id": "xa_Y1uqDLSVY"
      }
    },
    {
      "cell_type": "markdown",
      "source": [
        "\n",
        "\n",
        "*   **svd** : Décomposition de la valeur singulière (par défaut). Ne calcule pas la matrice de covariance, ce solveur est donc recommandé pour les données avec un grand nombre de caractéristiques.\n",
        "\n",
        "*   **lsqr** : solution des moindres carrés. Peut être combiné avec un estimateur de retrait ou de covariance personnalisé.\n",
        "\n",
        "\n",
        "*   **eigen** : décomposition des valeurs propres. Peut être combiné avec un estimateur de retrait ou de covariance personnalisé.\n",
        "\n",
        "*   List item\n",
        "*   List item\n",
        "\n",
        "\n",
        "\n"
      ],
      "metadata": {
        "id": "uW_9xHvgJNt6"
      }
    },
    {
      "cell_type": "code",
      "source": [
        "from sklearn.discriminant_analysis import LinearDiscriminantAnalysis\n",
        "model = LinearDiscriminantAnalysis()\n",
        "cv = RepeatedStratifiedKFold(n_splits=10, n_repeats=3, random_state=1)\n",
        "# define grid\n",
        "grid = dict()\n",
        "grid['solver'] = ['svd', 'lsqr', 'eigen']\n",
        "# define search\n",
        "search = GridSearchCV(model, grid, scoring='accuracy', cv=cv, n_jobs=-1)\n",
        "# perform the search\n",
        "results = search.fit(X_train, y_train)\n",
        "# summarize\n",
        "print('Mean Accuracy: %.3f' % results.best_score_)\n",
        "print('Config: %s' % results.best_params_)"
      ],
      "metadata": {
        "colab": {
          "base_uri": "https://localhost:8080/"
        },
        "id": "7qL28RajtIg_",
        "outputId": "04888e3a-206a-4a26-e2e3-37adbd803a2a"
      },
      "execution_count": null,
      "outputs": [
        {
          "output_type": "stream",
          "name": "stdout",
          "text": [
            "Mean Accuracy: 0.984\n",
            "Config: {'solver': 'svd'}\n"
          ]
        }
      ]
    },
    {
      "cell_type": "code",
      "source": [
        "preds = search.predict(X_test)\n",
        "\n",
        "# Evaluate\n",
        "print(f'Accuracy = {accuracy_score(y_test, preds):.2f}\\nRecall = {recall_score(y_test, preds):.2f}\\n')\n",
        "cm = confusion_matrix(y_test, preds)\n",
        "plt.figure(figsize=(8, 6))\n",
        "plt.title('Confusion Matrix (without SMOTE)', size=16)\n",
        "sns.heatmap(cm, annot=True, cmap='Blues');"
      ],
      "metadata": {
        "colab": {
          "base_uri": "https://localhost:8080/",
          "height": 444
        },
        "id": "m16klAGbtjYo",
        "outputId": "a480ba7d-c62c-4bae-dc24-aaff62b3846c"
      },
      "execution_count": null,
      "outputs": [
        {
          "output_type": "stream",
          "name": "stdout",
          "text": [
            "Accuracy = 0.98\n",
            "Recall = 0.02\n",
            "\n"
          ]
        },
        {
          "output_type": "display_data",
          "data": {
            "image/png": "[encoded data removed]",
            "text/plain": [
              "<Figure size 576x432 with 2 Axes>"
            ]
          },
          "metadata": {
            "needs_background": "light"
          }
        }
      ]
    },
    {
      "cell_type": "code",
      "source": [
        "model5_s= LinearDiscriminantAnalysis(solver=\"eigen\")\n",
        "model5_s.fit(X_train_s, y_train_s)\n",
        "pred5_s = model5_s.predict(X_test_s)\n",
        "\n",
        "print(f'Accuracy = {accuracy_score(y_test_s, pred5_s):.2f}\\nRecall = {recall_score(y_test_s, pred5_s):.2f}\\n')\n",
        "cm = confusion_matrix(y_test_s, pred5_s)\n",
        "plt.figure(figsize=(8, 6))\n",
        "plt.title('Confusion Matrix (with SMOTE)', size=16)\n",
        "sns.heatmap(cm, annot=True, cmap='Blues');"
      ],
      "metadata": {
        "colab": {
          "base_uri": "https://localhost:8080/",
          "height": 444
        },
        "id": "ipzrGIHyvkzu",
        "outputId": "4079f2df-ae54-4898-958e-9cdeda4f413c"
      },
      "execution_count": null,
      "outputs": [
        {
          "output_type": "stream",
          "name": "stdout",
          "text": [
            "Accuracy = 0.65\n",
            "Recall = 0.66\n",
            "\n"
          ]
        },
        {
          "output_type": "display_data",
          "data": {
            "image/png": "[encoded data removed]",
            "text/plain": [
              "<Figure size 576x432 with 2 Axes>"
            ]
          },
          "metadata": {
            "needs_background": "light"
          }
        }
      ]
    },
    {
      "cell_type": "markdown",
      "source": [
        "\n",
        "\n",
        "*   **tol**:\n",
        "Seuil absolu pour qu'une valeur singulière de X soit considérée comme significative, utilisé pour estimer le rang de X. Les dimensions dont les valeurs singulières ne sont pas significatives sont rejetées. Uniquement utilisé si le solveur est 'svd'.\n",
        "*   **store_covariance**:\n",
        "Si True, calcule explicitement la matrice de covariance intra-classe pondérée lorsque le solveur est 'svd'. La matrice est toujours calculée et stockée pour les autres solveurs.\n",
        "\n",
        "*   **reg_param**:\n",
        "Régularise les estimations de covariance par classe\n",
        "\n",
        "\n",
        "\n",
        "\n"
      ],
      "metadata": {
        "id": "3lDfDdEfJz6J"
      }
    },
    {
      "cell_type": "markdown",
      "source": [
        "**QDA**"
      ],
      "metadata": {
        "id": "zZTXyKkuLeR4"
      }
    },
    {
      "cell_type": "code",
      "source": [
        "from sklearn.discriminant_analysis import QuadraticDiscriminantAnalysis\n",
        "model6 = QuadraticDiscriminantAnalysis()\n",
        "parameters_3 = {\n",
        "    'reg_param': (0.00001, 0.0001, 0.001,0.01, 0.1), \n",
        "    'store_covariance': (True, False),\n",
        "    'tol': (0.0001, 0.001,0.01, 0.1), \n",
        "                   }\n",
        "# with GridSearch\n",
        "grid_search_qda = GridSearchCV(\n",
        "    estimator=model6,\n",
        "    param_grid=parameters_3,\n",
        "    scoring = 'accuracy',\n",
        "    n_jobs = -1,\n",
        "    cv = 5\n",
        ")\n",
        "qda=grid_search_qda.fit(X_train, y_train)\n",
        "# summarize\n",
        "print('Mean Accuracy: %.3f' % qda.best_score_)\n",
        "print('Config: %s' % qda.best_params_)\n"
      ],
      "metadata": {
        "colab": {
          "base_uri": "https://localhost:8080/"
        },
        "id": "o4hT5gLPxBVj",
        "outputId": "f5e1012f-a0fc-4785-db1c-20b756061fe5"
      },
      "execution_count": null,
      "outputs": [
        {
          "output_type": "stream",
          "name": "stdout",
          "text": [
            "Mean Accuracy: 0.983\n",
            "Config: {'reg_param': 0.1, 'store_covariance': True, 'tol': 0.0001}\n"
          ]
        },
        {
          "output_type": "stream",
          "name": "stderr",
          "text": [
            "/usr/local/lib/python3.7/dist-packages/sklearn/discriminant_analysis.py:878: UserWarning: Variables are collinear\n",
            "  warnings.warn(\"Variables are collinear\")\n"
          ]
        }
      ]
    },
    {
      "cell_type": "code",
      "source": [
        "qda_pred = grid_search_qda.predict(X_test)\n",
        "\n",
        "# Evaluate\n",
        "print(f'Accuracy = {accuracy_score(y_test, qda_pred):.2f}\\nRecall = {recall_score(y_test, qda_pred):.2f}\\n')\n",
        "cm = confusion_matrix(y_test, qda_pred)\n",
        "plt.figure(figsize=(8, 6))\n",
        "plt.title('Confusion Matrix (without SMOTE)', size=16)\n",
        "sns.heatmap(cm, annot=True, cmap='Blues');"
      ],
      "metadata": {
        "colab": {
          "base_uri": "https://localhost:8080/",
          "height": 444
        },
        "id": "jTbhTE57xs9d",
        "outputId": "e24c1a6c-648b-462d-bec0-949048cf7a2e"
      },
      "execution_count": null,
      "outputs": [
        {
          "output_type": "stream",
          "name": "stdout",
          "text": [
            "Accuracy = 0.98\n",
            "Recall = 0.00\n",
            "\n"
          ]
        },
        {
          "output_type": "display_data",
          "data": {
            "image/png": "[encoded data removed]",
            "text/plain": [
              "<Figure size 576x432 with 2 Axes>"
            ]
          },
          "metadata": {
            "needs_background": "light"
          }
        }
      ]
    },
    {
      "cell_type": "code",
      "source": [
        "model6_s= QuadraticDiscriminantAnalysis(reg_param=0.1, store_covariance=True, tol= 0.0001)\n",
        "model6_s.fit(X_train_s, y_train_s)\n",
        "pred6_s = model6_s.predict(X_test_s)\n",
        "\n",
        "print(f'Accuracy = {accuracy_score(y_test_s, pred6_s):.2f}\\nRecall = {recall_score(y_test_s, pred6_s):.2f}\\n')\n",
        "cm = confusion_matrix(y_test_s, pred6_s)\n",
        "plt.figure(figsize=(8, 6))\n",
        "plt.title('Confusion Matrix (with SMOTE)', size=16)\n",
        "sns.heatmap(cm, annot=True, cmap='Blues');"
      ],
      "metadata": {
        "colab": {
          "base_uri": "https://localhost:8080/",
          "height": 479
        },
        "id": "QLFFy-CkyDY2",
        "outputId": "add1af18-f22f-4678-fdea-7f65d5d49ba3"
      },
      "execution_count": null,
      "outputs": [
        {
          "output_type": "stream",
          "name": "stderr",
          "text": [
            "/usr/local/lib/python3.7/dist-packages/sklearn/discriminant_analysis.py:878: UserWarning: Variables are collinear\n",
            "  warnings.warn(\"Variables are collinear\")\n"
          ]
        },
        {
          "output_type": "stream",
          "name": "stdout",
          "text": [
            "Accuracy = 0.63\n",
            "Recall = 0.87\n",
            "\n"
          ]
        },
        {
          "output_type": "display_data",
          "data": {
            "image/png": "[encoded data removed]",
            "text/plain": [
              "<Figure size 576x432 with 2 Axes>"
            ]
          },
          "metadata": {
            "needs_background": "light"
          }
        }
      ]
    },
    {
      "cell_type": "markdown",
      "source": [
        "**XGBOOST**\n",
        "\n",
        ">\n",
        "C'est un modèle ensembliste qui utilise un ensemble de d'algorithmes simples pour donner de meilleur résultats.\n",
        "\n"
      ],
      "metadata": {
        "id": "Hu9bnQtAE7C8"
      }
    },
    {
      "cell_type": "code",
      "source": [
        "import xgboost as xgb\n",
        "model7 = xgb.XGBClassifier(random_state = 42)\n",
        "model7.fit(X_train, y_train)\n",
        "pred7 = model7.predict(X_test)\n",
        "\n",
        "# Evaluate\n",
        "print(f'Accuracy = {accuracy_score(y_test, pred7):.2f}\\nRecall = {recall_score(y_test, pred7):.2f}\\n')\n",
        "cm = confusion_matrix(y_test, pred7)\n",
        "plt.figure(figsize=(8, 6))\n",
        "plt.title('Confusion Matrix (without SMOTE)', size=16)\n",
        "sns.heatmap(cm, annot=True, cmap='Blues');"
      ],
      "metadata": {
        "colab": {
          "base_uri": "https://localhost:8080/",
          "height": 444
        },
        "id": "M1yksKcFExJO",
        "outputId": "6c9224bd-0126-4f08-cb7e-dd9109753023"
      },
      "execution_count": null,
      "outputs": [
        {
          "output_type": "stream",
          "name": "stdout",
          "text": [
            "Accuracy = 0.98\n",
            "Recall = 0.02\n",
            "\n"
          ]
        },
        {
          "output_type": "display_data",
          "data": {
            "image/png": "[encoded data removed]",
            "text/plain": [
              "<Figure size 576x432 with 2 Axes>"
            ]
          },
          "metadata": {
            "needs_background": "light"
          }
        }
      ]
    },
    {
      "cell_type": "code",
      "source": [
        "model7_s= xgb.XGBClassifier(random_state = 42)\n",
        "model7_s.fit(X_train_s, y_train_s)\n",
        "pred7_s = model7_s.predict(X_test_s)\n",
        "\n",
        "print(f'Accuracy = {accuracy_score(y_test_s, pred6_s):.2f}\\nRecall = {recall_score(y_test_s, pred6_s):.2f}\\n')\n",
        "cm = confusion_matrix(y_test_s, pred6_s)\n",
        "plt.figure(figsize=(8, 6))\n",
        "plt.title('Confusion Matrix (with SMOTE)', size=16)\n",
        "sns.heatmap(cm, annot=True, cmap='Blues');"
      ],
      "metadata": {
        "colab": {
          "base_uri": "https://localhost:8080/",
          "height": 444
        },
        "id": "iwM1WAN0Ff9h",
        "outputId": "9c7b5ede-8a25-4ff6-c10d-b47b31dd5560"
      },
      "execution_count": null,
      "outputs": [
        {
          "output_type": "stream",
          "name": "stdout",
          "text": [
            "Accuracy = 0.63\n",
            "Recall = 0.87\n",
            "\n"
          ]
        },
        {
          "output_type": "display_data",
          "data": {
            "image/png": "[encoded data removed]",
            "text/plain": [
              "<Figure size 576x432 with 2 Axes>"
            ]
          },
          "metadata": {
            "needs_background": "light"
          }
        }
      ]
    },
    {
      "cell_type": "code",
      "source": [
        "xgb_model = xgb.XGBClassifier()\n",
        "parameters = {'nthread':[4], #when use hyperthread, xgboost may become slower\n",
        "              'objective':['binary:logistic'],\n",
        "              'learning_rate': [0.05], #so called `eta` value\n",
        "              'max_depth': [6],\n",
        "              'min_child_weight': [11],\n",
        "              'silent': [1],\n",
        "              'subsample': [0.8],\n",
        "              'colsample_bytree': [0.7],\n",
        "              'n_estimators': [5], #number of trees\n",
        "              'missing':[-999],\n",
        "              'seed': [1337]}\n",
        "clf1 = GridSearchCV(xgb_model, parameters, n_jobs=5, \n",
        "                   cv=5, \n",
        "                   scoring='accuracy',\n",
        "                   verbose=2, refit=True)\n",
        "mod=clf1.fit(X_train, y_train)\n",
        "# summarize\n",
        "print('Mean Accuracy: %.3f' % mod.best_score_)\n",
        "print('Config: %s' % mod.best_params_)"
      ],
      "metadata": {
        "colab": {
          "base_uri": "https://localhost:8080/"
        },
        "id": "Agp5QOidzjuz",
        "outputId": "c0c1cbda-ce86-4076-964f-aef22c0d1e5d"
      },
      "execution_count": null,
      "outputs": [
        {
          "output_type": "stream",
          "name": "stdout",
          "text": [
            "Fitting 5 folds for each of 1 candidates, totalling 5 fits\n",
            "Mean Accuracy: 0.983\n",
            "Config: {'colsample_bytree': 0.7, 'learning_rate': 0.05, 'max_depth': 6, 'min_child_weight': 11, 'missing': -999, 'n_estimators': 5, 'nthread': 4, 'objective': 'binary:logistic', 'seed': 1337, 'silent': 1, 'subsample': 0.8}\n"
          ]
        }
      ]
    },
    {
      "cell_type": "code",
      "source": [
        "predic = clf1.predict(X_test)\n",
        "\n",
        "print(f'Accuracy = {accuracy_score(y_test, predic):.2f}\\nRecall = {recall_score(y_test, predic):.2f}\\n')\n",
        "cm = confusion_matrix(y_test, predic)\n",
        "plt.figure(figsize=(8, 6))\n",
        "plt.title('Confusion Matrix (without SMOTE)', size=16)\n",
        "sns.heatmap(cm, annot=True, cmap='Blues');"
      ],
      "metadata": {
        "colab": {
          "base_uri": "https://localhost:8080/",
          "height": 444
        },
        "id": "OHrbjNUV040D",
        "outputId": "8a4a7589-1d11-400e-a6c7-a6448d8498bc"
      },
      "execution_count": null,
      "outputs": [
        {
          "output_type": "stream",
          "name": "stdout",
          "text": [
            "Accuracy = 0.98\n",
            "Recall = 0.00\n",
            "\n"
          ]
        },
        {
          "output_type": "display_data",
          "data": {
            "image/png": "[encoded data removed]",
            "text/plain": [
              "<Figure size 576x432 with 2 Axes>"
            ]
          },
          "metadata": {
            "needs_background": "light"
          }
        }
      ]
    },
    {
      "cell_type": "markdown",
      "source": [
        "Le SMOTE a amélioré le modèle XGboost meme s'il a un peu perdu en précision."
      ],
      "metadata": {
        "id": "jRnL5Wo9K8lI"
      }
    },
    {
      "cell_type": "markdown",
      "source": [
        "En conclusion,**le meilleur modèle parmi les 7 utilisés est le RANDOM FOREST de par sa précision(99%) et son recall(99%).**\n",
        "Calculons maitenant l'Aire sous la courbe de ROC(AUC)."
      ],
      "metadata": {
        "id": "YBnly6EoLReX"
      }
    },
    {
      "cell_type": "code",
      "source": [
        "from sklearn.metrics import roc_auc_score,roc_curve\n",
        "\n",
        "ytest_pred=model2_s.predict_proba(X_test_s)\n",
        "print(\"AUC : {} \".format(roc_auc_score(y_test_s,ytest_pred[:,-1])))\n",
        "ytest_pred_ = ytest_pred[:,-1]\n",
        "\n",
        "fpr,tpr,thresholds = roc_curve(y_test_s,ytest_pred_)\n",
        "\n",
        "#plt.figure(figsize=(12,8))\n",
        "plt.plot(fpr,tpr,label='roc_curve',color='MAGENTA')\n",
        "plt.plot([0,1],[0,1],color='darkblue',linestyle='--')\n",
        "plt.ylabel(\"Taux de vrai positifs\",fontsize=15)\n",
        "plt.xlabel(\"Taux de faux positifs\",fontsize=15)\n",
        "plt.title(\"Receiver Operating Characteristic (Roc) curve \",fontsize=15)\n",
        "plt.legend()\n",
        "plt.show()"
      ],
      "metadata": {
        "colab": {
          "base_uri": "https://localhost:8080/",
          "height": 319
        },
        "id": "_GePSqYCGqpk",
        "outputId": "b9be0bb5-5957-4387-cea4-4d53728af4d2"
      },
      "execution_count": null,
      "outputs": [
        {
          "output_type": "stream",
          "name": "stdout",
          "text": [
            "AUC : 0.9988314683635284 \n"
          ]
        },
        {
          "output_type": "display_data",
          "data": {
            "image/png": "[encoded data removed]",
            "text/plain": [
              "<Figure size 432x288 with 1 Axes>"
            ]
          },
          "metadata": {
            "needs_background": "light"
          }
        }
      ]
    },
    {
      "cell_type": "markdown",
      "source": [
        "L'**AUC** du Random forest est de **0.99** pour les données de test;ce qui montre que ce modèle est un classificateur très performant et presque parfait.\n",
        "\n"
      ],
      "metadata": {
        "id": "RLBLnwNIL3Ic"
      }
    },
    {
      "cell_type": "markdown",
      "source": [
        "**CONCLUSION**\n",
        "\n",
        "> \n",
        "\n",
        "\n",
        "La mise en œuvre de SMOTE sur notre ensemble de données déséquilibré nous a aidés avec le déséquilibre de nos étiquettes.\n",
        "\n",
        "> \n",
        "Ainsi,SMOTE montre un résultat prometteur par rapport au rééchantillonnage aléatoire.\n",
        "\n",
        "\n"
      ],
      "metadata": {
        "id": "AjiWkC6oM9oe"
      }
    }
  ]
}